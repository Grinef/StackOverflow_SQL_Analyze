{
 "cells": [
  {
   "cell_type": "code",
   "execution_count": 1,
   "metadata": {
    "id": "nlZBlglMDWKe"
   },
   "outputs": [],
   "source": [
    "import pandas as pd\n",
    "import matplotlib.pyplot as plt\n",
    "from sqlalchemy import create_engine \n",
    "import seaborn as sns"
   ]
  },
  {
   "cell_type": "markdown",
   "metadata": {
    "id": "XnOE3n28DWKg"
   },
   "source": [
    "### Конфигурация для подключения к базе данных `data-analyst-advanced-sql`\n",
    "Эта база данных содержит схему `stackoverflow`, с которой вы будете работать в проекте"
   ]
  },
  {
   "cell_type": "code",
   "execution_count": 2,
   "metadata": {
    "id": "6p-yGp7qDWKg"
   },
   "outputs": [],
   "source": [
    "db_config = {\n",
    "    'user': 'praktikum_student', # имя пользователя\n",
    "    'pwd': 'Sdf4$2;d-d30pp', # пароль\n",
    "    'host': 'rc1b-wcoijxj3yxfsf3fs.mdb.yandexcloud.net',\n",
    "    'port': 6432, # порт подключения\n",
    "    'db': 'data-analyst-advanced-sql' # название базы данных\n",
    "}  \n",
    "\n",
    "connection_string = 'postgresql://{}:{}@{}:{}/{}'.format(\n",
    "    db_config['user'],\n",
    "    db_config['pwd'],\n",
    "    db_config['host'],\n",
    "    db_config['port'],\n",
    "    db_config['db'],\n",
    ")"
   ]
  },
  {
   "cell_type": "markdown",
   "metadata": {
    "id": "2Rg8ZpS0DWKh"
   },
   "source": [
    "Создание подключения"
   ]
  },
  {
   "cell_type": "code",
   "execution_count": 3,
   "metadata": {
    "id": "DamCUTR6DWKi"
   },
   "outputs": [],
   "source": [
    "engine = create_engine(connection_string) "
   ]
  },
  {
   "cell_type": "markdown",
   "metadata": {
    "id": "bel8XeSlDWKj"
   },
   "source": [
    "Пример запроса к базе данных\n",
    "\n",
    "`sample_df` является pandas-датафреймом."
   ]
  },
  {
   "cell_type": "code",
   "execution_count": 4,
   "metadata": {
    "id": "6Z_fw0yLDWKk"
   },
   "outputs": [],
   "source": [
    "query = '''\n",
    "SELECT *\n",
    "FROM stackoverflow.users\n",
    "LIMIT 10;\n",
    "'''\n",
    "\n",
    "sample_df = pd.read_sql_query(query, con=engine) "
   ]
  },
  {
   "cell_type": "code",
   "execution_count": 5,
   "metadata": {
    "id": "ZpuZ290oDWKk",
    "outputId": "22785a0a-e2bc-4559-ec3c-4879c4b377eb"
   },
   "outputs": [
    {
     "data": {
      "text/html": [
       "<div>\n",
       "<style scoped>\n",
       "    .dataframe tbody tr th:only-of-type {\n",
       "        vertical-align: middle;\n",
       "    }\n",
       "\n",
       "    .dataframe tbody tr th {\n",
       "        vertical-align: top;\n",
       "    }\n",
       "\n",
       "    .dataframe thead th {\n",
       "        text-align: right;\n",
       "    }\n",
       "</style>\n",
       "<table border=\"1\" class=\"dataframe\">\n",
       "  <thead>\n",
       "    <tr style=\"text-align: right;\">\n",
       "      <th></th>\n",
       "      <th>id</th>\n",
       "      <th>creation_date</th>\n",
       "      <th>display_name</th>\n",
       "      <th>last_access_date</th>\n",
       "      <th>location</th>\n",
       "      <th>reputation</th>\n",
       "      <th>views</th>\n",
       "    </tr>\n",
       "  </thead>\n",
       "  <tbody>\n",
       "    <tr>\n",
       "      <th>0</th>\n",
       "      <td>1</td>\n",
       "      <td>2008-07-31 14:22:31</td>\n",
       "      <td>Jeff Atwood</td>\n",
       "      <td>2018-08-29 02:34:23</td>\n",
       "      <td>El Cerrito, CA</td>\n",
       "      <td>44300</td>\n",
       "      <td>408587</td>\n",
       "    </tr>\n",
       "    <tr>\n",
       "      <th>1</th>\n",
       "      <td>2</td>\n",
       "      <td>2008-07-31 14:22:31</td>\n",
       "      <td>Geoff Dalgas</td>\n",
       "      <td>2018-08-23 17:31:56</td>\n",
       "      <td>Corvallis, OR</td>\n",
       "      <td>3491</td>\n",
       "      <td>23966</td>\n",
       "    </tr>\n",
       "    <tr>\n",
       "      <th>2</th>\n",
       "      <td>3</td>\n",
       "      <td>2008-07-31 14:22:31</td>\n",
       "      <td>Jarrod Dixon</td>\n",
       "      <td>2018-08-30 20:56:24</td>\n",
       "      <td>Raleigh, NC, United States</td>\n",
       "      <td>13418</td>\n",
       "      <td>24396</td>\n",
       "    </tr>\n",
       "    <tr>\n",
       "      <th>3</th>\n",
       "      <td>4</td>\n",
       "      <td>2008-07-31 14:22:31</td>\n",
       "      <td>Joel Spolsky</td>\n",
       "      <td>2018-08-14 22:18:15</td>\n",
       "      <td>New York, NY</td>\n",
       "      <td>28768</td>\n",
       "      <td>73755</td>\n",
       "    </tr>\n",
       "    <tr>\n",
       "      <th>4</th>\n",
       "      <td>5</td>\n",
       "      <td>2008-07-31 14:22:31</td>\n",
       "      <td>Jon Galloway</td>\n",
       "      <td>2018-08-29 16:48:36</td>\n",
       "      <td>San Diego, CA</td>\n",
       "      <td>39172</td>\n",
       "      <td>11700</td>\n",
       "    </tr>\n",
       "    <tr>\n",
       "      <th>5</th>\n",
       "      <td>8</td>\n",
       "      <td>2008-07-31 21:33:24</td>\n",
       "      <td>Eggs McLaren</td>\n",
       "      <td>2018-04-09 02:04:56</td>\n",
       "      <td>None</td>\n",
       "      <td>942</td>\n",
       "      <td>6372</td>\n",
       "    </tr>\n",
       "    <tr>\n",
       "      <th>6</th>\n",
       "      <td>9</td>\n",
       "      <td>2008-07-31 21:35:27</td>\n",
       "      <td>Kevin Dente</td>\n",
       "      <td>2018-08-30 18:18:03</td>\n",
       "      <td>Oakland, CA</td>\n",
       "      <td>14337</td>\n",
       "      <td>4949</td>\n",
       "    </tr>\n",
       "    <tr>\n",
       "      <th>7</th>\n",
       "      <td>11</td>\n",
       "      <td>2008-08-01 00:59:11</td>\n",
       "      <td>Anonymous User</td>\n",
       "      <td>2008-08-01 00:59:11</td>\n",
       "      <td>None</td>\n",
       "      <td>1890</td>\n",
       "      <td>2123</td>\n",
       "    </tr>\n",
       "    <tr>\n",
       "      <th>8</th>\n",
       "      <td>13</td>\n",
       "      <td>2008-08-01 04:18:05</td>\n",
       "      <td>Chris Jester-Young</td>\n",
       "      <td>2018-08-30 02:47:23</td>\n",
       "      <td>Raleigh, NC, United States</td>\n",
       "      <td>177138</td>\n",
       "      <td>35414</td>\n",
       "    </tr>\n",
       "    <tr>\n",
       "      <th>9</th>\n",
       "      <td>17</td>\n",
       "      <td>2008-08-01 12:02:22</td>\n",
       "      <td>Nick Berardi</td>\n",
       "      <td>2018-01-22 01:35:38</td>\n",
       "      <td>Issaquah, WA</td>\n",
       "      <td>44443</td>\n",
       "      <td>4786</td>\n",
       "    </tr>\n",
       "  </tbody>\n",
       "</table>\n",
       "</div>"
      ],
      "text/plain": [
       "   id       creation_date        display_name    last_access_date  \\\n",
       "0   1 2008-07-31 14:22:31         Jeff Atwood 2018-08-29 02:34:23   \n",
       "1   2 2008-07-31 14:22:31        Geoff Dalgas 2018-08-23 17:31:56   \n",
       "2   3 2008-07-31 14:22:31        Jarrod Dixon 2018-08-30 20:56:24   \n",
       "3   4 2008-07-31 14:22:31        Joel Spolsky 2018-08-14 22:18:15   \n",
       "4   5 2008-07-31 14:22:31        Jon Galloway 2018-08-29 16:48:36   \n",
       "5   8 2008-07-31 21:33:24        Eggs McLaren 2018-04-09 02:04:56   \n",
       "6   9 2008-07-31 21:35:27         Kevin Dente 2018-08-30 18:18:03   \n",
       "7  11 2008-08-01 00:59:11      Anonymous User 2008-08-01 00:59:11   \n",
       "8  13 2008-08-01 04:18:05  Chris Jester-Young 2018-08-30 02:47:23   \n",
       "9  17 2008-08-01 12:02:22        Nick Berardi 2018-01-22 01:35:38   \n",
       "\n",
       "                     location  reputation   views  \n",
       "0              El Cerrito, CA       44300  408587  \n",
       "1               Corvallis, OR        3491   23966  \n",
       "2  Raleigh, NC, United States       13418   24396  \n",
       "3                New York, NY       28768   73755  \n",
       "4               San Diego, CA       39172   11700  \n",
       "5                        None         942    6372  \n",
       "6                 Oakland, CA       14337    4949  \n",
       "7                        None        1890    2123  \n",
       "8  Raleigh, NC, United States      177138   35414  \n",
       "9                Issaquah, WA       44443    4786  "
      ]
     },
     "execution_count": 5,
     "metadata": {},
     "output_type": "execute_result"
    }
   ],
   "source": [
    "sample_df"
   ]
  },
  {
   "cell_type": "markdown",
   "metadata": {
    "id": "gnBMXkDBDWKm"
   },
   "source": [
    "# Задание 1"
   ]
  },
  {
   "cell_type": "markdown",
   "metadata": {
    "id": "vHsfOrrNDWKn"
   },
   "source": [
    "Выведите общую сумму просмотров постов за каждый месяц 2008 года. Если данных за какой-либо месяц в базе нет, такой месяц можно пропустить. Результат отсортируйте по убыванию общего количества просмотров."
   ]
  },
  {
   "cell_type": "markdown",
   "metadata": {
    "id": "N5rTgGNmDWKn"
   },
   "source": [
    "| month_date  | total_views |\n",
    "| ------------- | ------------- |\n",
    "| 2008-09-01  | 452928568  |\n",
    "| 2008-10-01  | 365400138  |\n",
    "| ...         | ... |"
   ]
  },
  {
   "cell_type": "code",
   "execution_count": 6,
   "metadata": {
    "id": "eWvykcXTDWKo"
   },
   "outputs": [
    {
     "data": {
      "text/html": [
       "<div>\n",
       "<style scoped>\n",
       "    .dataframe tbody tr th:only-of-type {\n",
       "        vertical-align: middle;\n",
       "    }\n",
       "\n",
       "    .dataframe tbody tr th {\n",
       "        vertical-align: top;\n",
       "    }\n",
       "\n",
       "    .dataframe thead th {\n",
       "        text-align: right;\n",
       "    }\n",
       "</style>\n",
       "<table border=\"1\" class=\"dataframe\">\n",
       "  <thead>\n",
       "    <tr style=\"text-align: right;\">\n",
       "      <th></th>\n",
       "      <th>month_date</th>\n",
       "      <th>total_views</th>\n",
       "    </tr>\n",
       "  </thead>\n",
       "  <tbody>\n",
       "    <tr>\n",
       "      <th>0</th>\n",
       "      <td>2008-09-01</td>\n",
       "      <td>452928568</td>\n",
       "    </tr>\n",
       "    <tr>\n",
       "      <th>1</th>\n",
       "      <td>2008-10-01</td>\n",
       "      <td>365400138</td>\n",
       "    </tr>\n",
       "    <tr>\n",
       "      <th>2</th>\n",
       "      <td>2008-11-01</td>\n",
       "      <td>221759651</td>\n",
       "    </tr>\n",
       "    <tr>\n",
       "      <th>3</th>\n",
       "      <td>2008-12-01</td>\n",
       "      <td>197792841</td>\n",
       "    </tr>\n",
       "    <tr>\n",
       "      <th>4</th>\n",
       "      <td>2008-08-01</td>\n",
       "      <td>131367083</td>\n",
       "    </tr>\n",
       "    <tr>\n",
       "      <th>5</th>\n",
       "      <td>2008-07-01</td>\n",
       "      <td>669895</td>\n",
       "    </tr>\n",
       "  </tbody>\n",
       "</table>\n",
       "</div>"
      ],
      "text/plain": [
       "  month_date  total_views\n",
       "0 2008-09-01    452928568\n",
       "1 2008-10-01    365400138\n",
       "2 2008-11-01    221759651\n",
       "3 2008-12-01    197792841\n",
       "4 2008-08-01    131367083\n",
       "5 2008-07-01       669895"
      ]
     },
     "execution_count": 6,
     "metadata": {},
     "output_type": "execute_result"
    }
   ],
   "source": [
    "# напишите запрос\n",
    "query = '''\n",
    "SELECT DATE_TRUNC('month', creation_date) as month_date,\n",
    "       SUM(views_count) as total_views\n",
    "FROM stackoverflow.posts\n",
    "GROUP BY 1\n",
    "ORDER BY 2 desc\n",
    "'''\n",
    "\n",
    "df = pd.read_sql_query(query, con=engine) # выполните запрос\n",
    "df"
   ]
  },
  {
   "cell_type": "markdown",
   "metadata": {
    "id": "luxSj17oDWKq"
   },
   "source": [
    "**Да, данные отличаются, за разные месяца. Отличия могут быть связаны с тем, что количество просмотренных постов обладает определённым сезонным трендом. Например, летом, гораздо меньше людей учиться или работает. Часть находится в отпуске или на каникулах. К сентябрю же, активность нарастает. А вот к концу года - постепенно снижается.**\n",
    "\n",
    "**Возможно, это связано с тем, что с началом учебного года люди более замотивированы учиться, и, постепенно, поток снижается.**"
   ]
  },
  {
   "cell_type": "markdown",
   "metadata": {
    "id": "FziIXkn5DWKr"
   },
   "source": [
    "# Задание 2"
   ]
  },
  {
   "cell_type": "markdown",
   "metadata": {
    "id": "fTGESZvYDWKr"
   },
   "source": [
    "Выведите имена самых активных пользователей, которые в первый месяц после регистрации (включая день регистрации) дали больше 100 ответов. Вопросы, которые задавали пользователи, не учитывайте. Для каждого имени пользователя выведите количество уникальных значений `user_id`. Отсортируйте результат по полю с именами в лексикографическом порядке."
   ]
  },
  {
   "cell_type": "markdown",
   "metadata": {
    "id": "W5-tv6Y3DWKs"
   },
   "source": [
    "| display_name | count |\n",
    "| ------------ | ----- |\n",
    "| 1800 INFORMATION | 1 |\n",
    "| Adam Bellaire | 1 |\n",
    "| Adam Davis | 1 |\n",
    "| ... | ... |"
   ]
  },
  {
   "cell_type": "code",
   "execution_count": 7,
   "metadata": {
    "id": "fIO-y-YjDWKt"
   },
   "outputs": [
    {
     "data": {
      "text/html": [
       "<div>\n",
       "<style scoped>\n",
       "    .dataframe tbody tr th:only-of-type {\n",
       "        vertical-align: middle;\n",
       "    }\n",
       "\n",
       "    .dataframe tbody tr th {\n",
       "        vertical-align: top;\n",
       "    }\n",
       "\n",
       "    .dataframe thead th {\n",
       "        text-align: right;\n",
       "    }\n",
       "</style>\n",
       "<table border=\"1\" class=\"dataframe\">\n",
       "  <thead>\n",
       "    <tr style=\"text-align: right;\">\n",
       "      <th></th>\n",
       "      <th>display_name</th>\n",
       "      <th>user_count</th>\n",
       "    </tr>\n",
       "  </thead>\n",
       "  <tbody>\n",
       "    <tr>\n",
       "      <th>0</th>\n",
       "      <td>1800 INFORMATION</td>\n",
       "      <td>1</td>\n",
       "    </tr>\n",
       "    <tr>\n",
       "      <th>1</th>\n",
       "      <td>Adam Bellaire</td>\n",
       "      <td>1</td>\n",
       "    </tr>\n",
       "    <tr>\n",
       "      <th>2</th>\n",
       "      <td>Adam Davis</td>\n",
       "      <td>1</td>\n",
       "    </tr>\n",
       "    <tr>\n",
       "      <th>3</th>\n",
       "      <td>Adam Liss</td>\n",
       "      <td>1</td>\n",
       "    </tr>\n",
       "    <tr>\n",
       "      <th>4</th>\n",
       "      <td>Alan</td>\n",
       "      <td>8</td>\n",
       "    </tr>\n",
       "    <tr>\n",
       "      <th>...</th>\n",
       "      <td>...</td>\n",
       "      <td>...</td>\n",
       "    </tr>\n",
       "    <tr>\n",
       "      <th>74</th>\n",
       "      <td>lomaxx</td>\n",
       "      <td>1</td>\n",
       "    </tr>\n",
       "    <tr>\n",
       "      <th>75</th>\n",
       "      <td>mattlant</td>\n",
       "      <td>1</td>\n",
       "    </tr>\n",
       "    <tr>\n",
       "      <th>76</th>\n",
       "      <td>paxdiablo</td>\n",
       "      <td>1</td>\n",
       "    </tr>\n",
       "    <tr>\n",
       "      <th>77</th>\n",
       "      <td>tvanfosson</td>\n",
       "      <td>1</td>\n",
       "    </tr>\n",
       "    <tr>\n",
       "      <th>78</th>\n",
       "      <td>tzot</td>\n",
       "      <td>1</td>\n",
       "    </tr>\n",
       "  </tbody>\n",
       "</table>\n",
       "<p>79 rows × 2 columns</p>\n",
       "</div>"
      ],
      "text/plain": [
       "        display_name  user_count\n",
       "0   1800 INFORMATION           1\n",
       "1      Adam Bellaire           1\n",
       "2         Adam Davis           1\n",
       "3          Adam Liss           1\n",
       "4               Alan           8\n",
       "..               ...         ...\n",
       "74            lomaxx           1\n",
       "75          mattlant           1\n",
       "76         paxdiablo           1\n",
       "77        tvanfosson           1\n",
       "78              tzot           1\n",
       "\n",
       "[79 rows x 2 columns]"
      ]
     },
     "execution_count": 7,
     "metadata": {},
     "output_type": "execute_result"
    }
   ],
   "source": [
    "# напишите запрос\n",
    "query = '''\n",
    "WITH users_info AS (\n",
    "SELECT sp.user_id,\n",
    "       su.creation_date as registration_date,\n",
    "       su.display_name,\n",
    "       sp.creation_date\n",
    "FROM stackoverflow.users su\n",
    "LEFT JOIN stackoverflow.posts sp ON \n",
    "     sp.user_id = su.id\n",
    "WHERE sp.post_type_id = 2 \n",
    ")\n",
    "SELECT display_name,\n",
    "       COUNT(DISTINCT user_id) AS user_count\n",
    "FROM users_info\n",
    "WHERE DATE_TRUNC('DAY', creation_date) <= DATE_TRUNC('DAY', registration_date) + INTERVAL '1 month'\n",
    "GROUP BY display_name\n",
    "HAVING COUNT(*) > 100\n",
    "ORDER BY display_name;\n",
    "'''\n",
    "\n",
    "df = pd.read_sql_query(query, con=engine) \n",
    "df"
   ]
  },
  {
   "cell_type": "markdown",
   "metadata": {
    "id": "CEIGGQ6ODWKy"
   },
   "source": [
    "Аномалия тут только одна. Для некоторых пользователей присвоено n-ое количество user_id. \n",
    "Это говорит о том, что либо, у разных пользователей, может быть одинакове display_name, либо, в базе данных неправильно собраны user_id."
   ]
  },
  {
   "cell_type": "markdown",
   "metadata": {
    "id": "JhM2xXj5DWKu"
   },
   "source": [
    "# Задание 3"
   ]
  },
  {
   "cell_type": "markdown",
   "metadata": {
    "id": "IS6xPqyyDWKu"
   },
   "source": [
    "Выведите количество постов за 2008 год по месяцам. Отберите посты от пользователей, которые зарегистрировались в сентябре 2008 года и сделали хотя бы один пост в декабре того же года. Отсортируйте таблицу по значению месяца по убыванию."
   ]
  },
  {
   "cell_type": "markdown",
   "metadata": {
    "id": "WmjhjV2xDWKv"
   },
   "source": [
    "| month | count |\n",
    "| ------|------ |\n",
    "| 2008-12-01 | 17641 |\n",
    "| 2008-11-01 | 18294 |\n",
    "| ... | ... |"
   ]
  },
  {
   "cell_type": "code",
   "execution_count": 8,
   "metadata": {
    "id": "kVu0FB8WDWKv"
   },
   "outputs": [
    {
     "data": {
      "text/html": [
       "<div>\n",
       "<style scoped>\n",
       "    .dataframe tbody tr th:only-of-type {\n",
       "        vertical-align: middle;\n",
       "    }\n",
       "\n",
       "    .dataframe tbody tr th {\n",
       "        vertical-align: top;\n",
       "    }\n",
       "\n",
       "    .dataframe thead th {\n",
       "        text-align: right;\n",
       "    }\n",
       "</style>\n",
       "<table border=\"1\" class=\"dataframe\">\n",
       "  <thead>\n",
       "    <tr style=\"text-align: right;\">\n",
       "      <th></th>\n",
       "      <th>month</th>\n",
       "      <th>count</th>\n",
       "    </tr>\n",
       "  </thead>\n",
       "  <tbody>\n",
       "    <tr>\n",
       "      <th>0</th>\n",
       "      <td>2008-12-01</td>\n",
       "      <td>17641</td>\n",
       "    </tr>\n",
       "    <tr>\n",
       "      <th>1</th>\n",
       "      <td>2008-11-01</td>\n",
       "      <td>18294</td>\n",
       "    </tr>\n",
       "    <tr>\n",
       "      <th>2</th>\n",
       "      <td>2008-10-01</td>\n",
       "      <td>27171</td>\n",
       "    </tr>\n",
       "    <tr>\n",
       "      <th>3</th>\n",
       "      <td>2008-09-01</td>\n",
       "      <td>24870</td>\n",
       "    </tr>\n",
       "    <tr>\n",
       "      <th>4</th>\n",
       "      <td>2008-08-01</td>\n",
       "      <td>32</td>\n",
       "    </tr>\n",
       "  </tbody>\n",
       "</table>\n",
       "</div>"
      ],
      "text/plain": [
       "        month  count\n",
       "0  2008-12-01  17641\n",
       "1  2008-11-01  18294\n",
       "2  2008-10-01  27171\n",
       "3  2008-09-01  24870\n",
       "4  2008-08-01     32"
      ]
     },
     "execution_count": 8,
     "metadata": {},
     "output_type": "execute_result"
    }
   ],
   "source": [
    "# напишите запрос\n",
    "query = '''\n",
    "WITH\n",
    "users AS (\n",
    "SELECT * \n",
    "FROM stackoverflow.users \n",
    "WHERE creation_date::date BETWEEN '2008-09-01'::date and\n",
    "                                  '2008-09-30'::date\n",
    "), \n",
    "users_id_filter AS (\n",
    "SELECT sp.user_id \n",
    "FROM stackoverflow.posts sp\n",
    "INNER JOIN users u ON \n",
    "           sp.user_id=u.id\n",
    "WHERE sp.creation_date::date BETWEEN '2008-12-01'::date and\n",
    "                                     '2008-12-31'::date)\n",
    "\n",
    "SELECT DATE_TRUNC('month', creation_date)::date as month,\n",
    "       COUNT(*)\n",
    "FROM stackoverflow.posts\n",
    "WHERE EXTRACT('year' from creation_date) = 2008 AND\n",
    "      user_id in (SELECT user_id FROM users_id_filter)\n",
    "GROUP BY DATE_TRUNC('month', creation_date)::date\n",
    "ORDER BY DATE_TRUNC('month', creation_date)::date DESC\n",
    "'''\n",
    "\n",
    "df = pd.read_sql_query(query, con=engine) \n",
    "df"
   ]
  },
  {
   "cell_type": "markdown",
   "metadata": {
    "id": "MMVIz4yMlKpN"
   },
   "source": [
    "Аномалия заключается в том, что у нас представлены пользователи, которые оставили посты в августе 2008 года, хотя, мы отбирали пользователей, которые зарегестрировались в сентябре 2008 год.\n",
    "У меня нет идей, почему такое возможно."
   ]
  },
  {
   "cell_type": "markdown",
   "metadata": {
    "id": "5Pcizm0DDWKz"
   },
   "source": [
    "# Задание 4"
   ]
  },
  {
   "cell_type": "markdown",
   "metadata": {
    "id": "KUZPF6vHDWKz"
   },
   "source": [
    "Используя данные о постах, выведите несколько полей:\n",
    "\n",
    "- идентификатор пользователя, который написал пост;\n",
    "- дата создания поста;\n",
    "- количество просмотров у текущего поста;\n",
    "- сумму просмотров постов автора с накоплением.\n",
    "\n",
    "Данные в таблице должны быть отсортированы по возрастанию идентификаторов пользователей, а данные об одном и том же пользователе — по возрастанию даты создания поста."
   ]
  },
  {
   "cell_type": "markdown",
   "metadata": {
    "id": "ZpsTUVDYDWK0"
   },
   "source": [
    "| user_id | creation_date | views_count | cumulative_count |\n",
    "| ------ | -------------- | ----------- | ---------------- |\n",
    "| 1 | 2008-07-31 23:41:00  | 480476   | 480476  |\n",
    "| 1 | 2008-07-31 23:55:38  | 136033 | 616509  | \n",
    "| 1 | 2008-07-31 23:56:41  | 0 |  616509  |\n",
    "| ... | ... | ... | ... |\n",
    "| 2 | 2008-07-31 23:56:41 | 79087  | 79087 |\n",
    "| 2 | 2008-08-01 05:09:56 | 65443 | 144530 |\n",
    "| ... | ...  | ...  | ...  |"
   ]
  },
  {
   "cell_type": "code",
   "execution_count": 9,
   "metadata": {
    "id": "hDoJhMzfDWK0"
   },
   "outputs": [
    {
     "data": {
      "text/html": [
       "<div>\n",
       "<style scoped>\n",
       "    .dataframe tbody tr th:only-of-type {\n",
       "        vertical-align: middle;\n",
       "    }\n",
       "\n",
       "    .dataframe tbody tr th {\n",
       "        vertical-align: top;\n",
       "    }\n",
       "\n",
       "    .dataframe thead th {\n",
       "        text-align: right;\n",
       "    }\n",
       "</style>\n",
       "<table border=\"1\" class=\"dataframe\">\n",
       "  <thead>\n",
       "    <tr style=\"text-align: right;\">\n",
       "      <th></th>\n",
       "      <th>user_id</th>\n",
       "      <th>creation_date</th>\n",
       "      <th>views_count</th>\n",
       "      <th>sum</th>\n",
       "    </tr>\n",
       "  </thead>\n",
       "  <tbody>\n",
       "    <tr>\n",
       "      <th>0</th>\n",
       "      <td>1</td>\n",
       "      <td>2008-07-31 23:41:00</td>\n",
       "      <td>480476</td>\n",
       "      <td>480476</td>\n",
       "    </tr>\n",
       "    <tr>\n",
       "      <th>1</th>\n",
       "      <td>1</td>\n",
       "      <td>2008-07-31 23:55:38</td>\n",
       "      <td>136033</td>\n",
       "      <td>616509</td>\n",
       "    </tr>\n",
       "    <tr>\n",
       "      <th>2</th>\n",
       "      <td>1</td>\n",
       "      <td>2008-07-31 23:56:41</td>\n",
       "      <td>0</td>\n",
       "      <td>616509</td>\n",
       "    </tr>\n",
       "    <tr>\n",
       "      <th>3</th>\n",
       "      <td>1</td>\n",
       "      <td>2008-08-04 02:45:08</td>\n",
       "      <td>0</td>\n",
       "      <td>616509</td>\n",
       "    </tr>\n",
       "    <tr>\n",
       "      <th>4</th>\n",
       "      <td>1</td>\n",
       "      <td>2008-08-04 04:31:03</td>\n",
       "      <td>0</td>\n",
       "      <td>616509</td>\n",
       "    </tr>\n",
       "    <tr>\n",
       "      <th>...</th>\n",
       "      <td>...</td>\n",
       "      <td>...</td>\n",
       "      <td>...</td>\n",
       "      <td>...</td>\n",
       "    </tr>\n",
       "    <tr>\n",
       "      <th>243791</th>\n",
       "      <td>5696608</td>\n",
       "      <td>2008-12-23 16:00:37</td>\n",
       "      <td>0</td>\n",
       "      <td>2804</td>\n",
       "    </tr>\n",
       "    <tr>\n",
       "      <th>243792</th>\n",
       "      <td>5696608</td>\n",
       "      <td>2008-12-23 17:35:09</td>\n",
       "      <td>0</td>\n",
       "      <td>2804</td>\n",
       "    </tr>\n",
       "    <tr>\n",
       "      <th>243793</th>\n",
       "      <td>5696608</td>\n",
       "      <td>2008-12-24 01:02:48</td>\n",
       "      <td>0</td>\n",
       "      <td>2804</td>\n",
       "    </tr>\n",
       "    <tr>\n",
       "      <th>243794</th>\n",
       "      <td>5696608</td>\n",
       "      <td>2008-12-30 14:34:45</td>\n",
       "      <td>0</td>\n",
       "      <td>2804</td>\n",
       "    </tr>\n",
       "    <tr>\n",
       "      <th>243795</th>\n",
       "      <td>5696608</td>\n",
       "      <td>2008-12-30 16:32:12</td>\n",
       "      <td>0</td>\n",
       "      <td>2804</td>\n",
       "    </tr>\n",
       "  </tbody>\n",
       "</table>\n",
       "<p>243796 rows × 4 columns</p>\n",
       "</div>"
      ],
      "text/plain": [
       "        user_id       creation_date  views_count     sum\n",
       "0             1 2008-07-31 23:41:00       480476  480476\n",
       "1             1 2008-07-31 23:55:38       136033  616509\n",
       "2             1 2008-07-31 23:56:41            0  616509\n",
       "3             1 2008-08-04 02:45:08            0  616509\n",
       "4             1 2008-08-04 04:31:03            0  616509\n",
       "...         ...                 ...          ...     ...\n",
       "243791  5696608 2008-12-23 16:00:37            0    2804\n",
       "243792  5696608 2008-12-23 17:35:09            0    2804\n",
       "243793  5696608 2008-12-24 01:02:48            0    2804\n",
       "243794  5696608 2008-12-30 14:34:45            0    2804\n",
       "243795  5696608 2008-12-30 16:32:12            0    2804\n",
       "\n",
       "[243796 rows x 4 columns]"
      ]
     },
     "execution_count": 9,
     "metadata": {},
     "output_type": "execute_result"
    }
   ],
   "source": [
    "# напишите запрос\n",
    "query = '''\n",
    "SELECT user_id,\n",
    "       creation_date,\n",
    "       views_count, \n",
    "       SUM(views_count) OVER (PARTITION BY user_id ORDER BY creation_date ASC)\n",
    "FROM stackoverflow.posts\n",
    "ORDER BY user_id\n",
    "'''\n",
    "\n",
    "df = pd.read_sql_query(query, con=engine) \n",
    "df"
   ]
  },
  {
   "cell_type": "markdown",
   "metadata": {
    "id": "N0kHRHvIDWK2"
   },
   "source": [
    "# Задание 5"
   ]
  },
  {
   "cell_type": "markdown",
   "metadata": {
    "id": "gBgvmPtODWK2"
   },
   "source": [
    "Найдите среднее количество постов пользователей в день за август 2008 года. Отберите данные о пользователях, которые опубликовали больше 120 постов за август. Дни без публикаций не учитывайте. \n",
    "\n",
    "Отсортируйте результат по возрастанию среднего количества постов. Значения можно не округлять."
   ]
  },
  {
   "cell_type": "markdown",
   "metadata": {
    "id": "nfzR08BODWK3"
   },
   "source": [
    "| user_id | avg_daily |\n",
    "| ------- | --------- |\n",
    "| 116     | 4.777778  |\n",
    "| 234     | 5.208333  |\n",
    "| ...     | ... |"
   ]
  },
  {
   "cell_type": "code",
   "execution_count": 10,
   "metadata": {
    "id": "YFyPNz5GDWK3"
   },
   "outputs": [
    {
     "data": {
      "text/html": [
       "<div>\n",
       "<style scoped>\n",
       "    .dataframe tbody tr th:only-of-type {\n",
       "        vertical-align: middle;\n",
       "    }\n",
       "\n",
       "    .dataframe tbody tr th {\n",
       "        vertical-align: top;\n",
       "    }\n",
       "\n",
       "    .dataframe thead th {\n",
       "        text-align: right;\n",
       "    }\n",
       "</style>\n",
       "<table border=\"1\" class=\"dataframe\">\n",
       "  <thead>\n",
       "    <tr style=\"text-align: right;\">\n",
       "      <th></th>\n",
       "      <th>user_id</th>\n",
       "      <th>avg_daily</th>\n",
       "    </tr>\n",
       "  </thead>\n",
       "  <tbody>\n",
       "    <tr>\n",
       "      <th>0</th>\n",
       "      <td>116</td>\n",
       "      <td>4.777778</td>\n",
       "    </tr>\n",
       "    <tr>\n",
       "      <th>1</th>\n",
       "      <td>234</td>\n",
       "      <td>5.208333</td>\n",
       "    </tr>\n",
       "    <tr>\n",
       "      <th>2</th>\n",
       "      <td>91</td>\n",
       "      <td>5.681818</td>\n",
       "    </tr>\n",
       "    <tr>\n",
       "      <th>3</th>\n",
       "      <td>905</td>\n",
       "      <td>7.000000</td>\n",
       "    </tr>\n",
       "    <tr>\n",
       "      <th>4</th>\n",
       "      <td>383</td>\n",
       "      <td>7.277778</td>\n",
       "    </tr>\n",
       "  </tbody>\n",
       "</table>\n",
       "</div>"
      ],
      "text/plain": [
       "   user_id  avg_daily\n",
       "0      116   4.777778\n",
       "1      234   5.208333\n",
       "2       91   5.681818\n",
       "3      905   7.000000\n",
       "4      383   7.277778"
      ]
     },
     "execution_count": 10,
     "metadata": {},
     "output_type": "execute_result"
    }
   ],
   "source": [
    "# напишите запрос\n",
    "query = '''\n",
    "WITH user_filter AS (\n",
    "SELECT user_id\n",
    "FROM stackoverflow.posts\n",
    "WHERE creation_date::date BETWEEN '2008-08-01'::date and\n",
    "                                  '2008-08-31'::date\n",
    "GROUP BY user_id\n",
    "HAVING COUNT(*) > 120),\n",
    "\n",
    "data AS (\n",
    "SELECT DISTINCT EXTRACT('day' FROM creation_date),\n",
    "       user_id, \n",
    "       COUNT(*) OVER (PARTITION BY user_id, EXTRACT('day' FROM creation_date)) as total_per_day\n",
    "FROM stackoverflow.posts\n",
    "WHERE user_id in (SELECT user_id\n",
    "                  FROM user_filter) AND\n",
    "      creation_date::date BETWEEN '2008-08-01'::date and\n",
    "                                  '2008-08-31'::date\n",
    ")\n",
    "SELECT user_id,\n",
    "       AVG(total_per_day) as avg_daily\n",
    "FROM data\n",
    "GROUP BY user_id\n",
    "ORDER BY avg_daily ASC\n",
    "'''\n",
    "\n",
    "df = pd.read_sql_query(query, con=engine) \n",
    "df"
   ]
  },
  {
   "cell_type": "markdown",
   "metadata": {
    "id": "EQ0dcFH4DWK5"
   },
   "source": [
    "# Задание 6"
   ]
  },
  {
   "cell_type": "markdown",
   "metadata": {
    "id": "c7flfg_hDWK5"
   },
   "source": [
    "Сколько в среднем дней в период с 1 по 7 декабря 2008 года пользователи взаимодействовали с платформой? Для каждого пользователя отберите дни, в которые он или она опубликовали хотя бы один пост. Нужно получить одно целое число — не забудьте округлить результат. "
   ]
  },
  {
   "cell_type": "markdown",
   "metadata": {
    "id": "RC1Ibzm9DWK6"
   },
   "source": [
    "| result |\n",
    "| -----  |\n",
    "| <целое число> |"
   ]
  },
  {
   "cell_type": "code",
   "execution_count": 11,
   "metadata": {
    "id": "kZ7LXTr6DWK6"
   },
   "outputs": [
    {
     "data": {
      "text/html": [
       "<div>\n",
       "<style scoped>\n",
       "    .dataframe tbody tr th:only-of-type {\n",
       "        vertical-align: middle;\n",
       "    }\n",
       "\n",
       "    .dataframe tbody tr th {\n",
       "        vertical-align: top;\n",
       "    }\n",
       "\n",
       "    .dataframe thead th {\n",
       "        text-align: right;\n",
       "    }\n",
       "</style>\n",
       "<table border=\"1\" class=\"dataframe\">\n",
       "  <thead>\n",
       "    <tr style=\"text-align: right;\">\n",
       "      <th></th>\n",
       "      <th>result</th>\n",
       "    </tr>\n",
       "  </thead>\n",
       "  <tbody>\n",
       "    <tr>\n",
       "      <th>0</th>\n",
       "      <td>2.0</td>\n",
       "    </tr>\n",
       "  </tbody>\n",
       "</table>\n",
       "</div>"
      ],
      "text/plain": [
       "   result\n",
       "0     2.0"
      ]
     },
     "execution_count": 11,
     "metadata": {},
     "output_type": "execute_result"
    }
   ],
   "source": [
    "# напишите запрос\n",
    "query = '''\n",
    "WITH user_filter AS (\n",
    "SELECT *,\n",
    "    COUNT(*) OVER (PARTITION BY user_id, DATE_TRUNC('day', creation_date)) as amount\n",
    "FROM stackoverflow.posts\n",
    "WHERE creation_date::date BETWEEN '2008-12-01'::date and\n",
    "                                  '2008-12-07'::date\n",
    "), \n",
    "interactions AS (\n",
    "SELECT DISTINCT user_id, amount\n",
    "FROM user_filter\n",
    ")\n",
    "SELECT ROUND(AVG(amount)) AS result\n",
    "FROM interactions\n",
    "'''\n",
    "df = pd.read_sql_query(query, con=engine) \n",
    "df"
   ]
  },
  {
   "cell_type": "markdown",
   "metadata": {
    "id": "LfUuYz-1DWK8"
   },
   "source": [
    "**Активность пользователей составляет 3 дня в среднем.**"
   ]
  },
  {
   "cell_type": "markdown",
   "metadata": {
    "id": "wfOmqmfLDWK8"
   },
   "source": [
    "# Задание 7"
   ]
  },
  {
   "cell_type": "markdown",
   "metadata": {
    "id": "X4ARQimADWK9"
   },
   "source": [
    "Выведите историю активности каждого пользователя в таком виде: идентификатор пользователя, дата публикации поста. Отсортируйте вывод по возрастанию идентификаторов пользователей, а для каждого пользователя — по возрастанию даты публикации.\n",
    "\n",
    "Добавьте в таблицу новое поле: для каждого поста в нём будет указано название месяца предпоследней публикации пользователя относительно текущей. Если такой публикации нет, укажите `NULL`.  Python автоматически поменяет `NULL` на `None`, но дополнительно преобразовывать значения `None` вам не нужно.\n",
    "\n",
    "Посмотрите внимательно на образец таблицы: для первых двух постов предпоследней публикации нет, но, начиная с третьего поста, в новое поле входит нужный месяц. Для следующего пользователя в первые две записи поля `second_last_month` тоже войдёт `NULL`."
   ]
  },
  {
   "cell_type": "markdown",
   "metadata": {
    "id": "IGPjRP01DWK9"
   },
   "source": [
    "| user_id | creation_date | second_last_month |\n",
    "| ------- | ------------- | ----------------- |\n",
    "| 1       | 2008-07-31 23:41:00 | None |\n",
    "| 1       | 2008-07-31 23:55:38 | None |\n",
    "| 1       | 2008-07-31 23:56:41 | July |\n",
    "| 1       | 2008-08-04 02:45:08 | July |\n",
    "| 1       | 2008-08-04 04:31:03 | July |\n",
    "| 1       | 2008-08-04 08:04:42 | August |\n",
    "| ... | ... | ... |"
   ]
  },
  {
   "cell_type": "code",
   "execution_count": 12,
   "metadata": {
    "id": "HzI1vhaMDWK-"
   },
   "outputs": [
    {
     "data": {
      "text/html": [
       "<div>\n",
       "<style scoped>\n",
       "    .dataframe tbody tr th:only-of-type {\n",
       "        vertical-align: middle;\n",
       "    }\n",
       "\n",
       "    .dataframe tbody tr th {\n",
       "        vertical-align: top;\n",
       "    }\n",
       "\n",
       "    .dataframe thead th {\n",
       "        text-align: right;\n",
       "    }\n",
       "</style>\n",
       "<table border=\"1\" class=\"dataframe\">\n",
       "  <thead>\n",
       "    <tr style=\"text-align: right;\">\n",
       "      <th></th>\n",
       "      <th>user_id</th>\n",
       "      <th>creation_date</th>\n",
       "      <th>to_char</th>\n",
       "    </tr>\n",
       "  </thead>\n",
       "  <tbody>\n",
       "    <tr>\n",
       "      <th>0</th>\n",
       "      <td>1</td>\n",
       "      <td>2008-07-31 23:41:00</td>\n",
       "      <td>None</td>\n",
       "    </tr>\n",
       "    <tr>\n",
       "      <th>1</th>\n",
       "      <td>1</td>\n",
       "      <td>2008-07-31 23:55:38</td>\n",
       "      <td>None</td>\n",
       "    </tr>\n",
       "    <tr>\n",
       "      <th>2</th>\n",
       "      <td>1</td>\n",
       "      <td>2008-07-31 23:56:41</td>\n",
       "      <td>July</td>\n",
       "    </tr>\n",
       "    <tr>\n",
       "      <th>3</th>\n",
       "      <td>1</td>\n",
       "      <td>2008-08-04 02:45:08</td>\n",
       "      <td>July</td>\n",
       "    </tr>\n",
       "    <tr>\n",
       "      <th>4</th>\n",
       "      <td>1</td>\n",
       "      <td>2008-08-04 04:31:03</td>\n",
       "      <td>July</td>\n",
       "    </tr>\n",
       "    <tr>\n",
       "      <th>...</th>\n",
       "      <td>...</td>\n",
       "      <td>...</td>\n",
       "      <td>...</td>\n",
       "    </tr>\n",
       "    <tr>\n",
       "      <th>243791</th>\n",
       "      <td>5696608</td>\n",
       "      <td>2008-12-23 16:00:37</td>\n",
       "      <td>December</td>\n",
       "    </tr>\n",
       "    <tr>\n",
       "      <th>243792</th>\n",
       "      <td>5696608</td>\n",
       "      <td>2008-12-23 17:35:09</td>\n",
       "      <td>December</td>\n",
       "    </tr>\n",
       "    <tr>\n",
       "      <th>243793</th>\n",
       "      <td>5696608</td>\n",
       "      <td>2008-12-24 01:02:48</td>\n",
       "      <td>December</td>\n",
       "    </tr>\n",
       "    <tr>\n",
       "      <th>243794</th>\n",
       "      <td>5696608</td>\n",
       "      <td>2008-12-30 14:34:45</td>\n",
       "      <td>December</td>\n",
       "    </tr>\n",
       "    <tr>\n",
       "      <th>243795</th>\n",
       "      <td>5696608</td>\n",
       "      <td>2008-12-30 16:32:12</td>\n",
       "      <td>December</td>\n",
       "    </tr>\n",
       "  </tbody>\n",
       "</table>\n",
       "<p>243796 rows × 3 columns</p>\n",
       "</div>"
      ],
      "text/plain": [
       "        user_id       creation_date    to_char\n",
       "0             1 2008-07-31 23:41:00       None\n",
       "1             1 2008-07-31 23:55:38       None\n",
       "2             1 2008-07-31 23:56:41  July     \n",
       "3             1 2008-08-04 02:45:08  July     \n",
       "4             1 2008-08-04 04:31:03  July     \n",
       "...         ...                 ...        ...\n",
       "243791  5696608 2008-12-23 16:00:37  December \n",
       "243792  5696608 2008-12-23 17:35:09  December \n",
       "243793  5696608 2008-12-24 01:02:48  December \n",
       "243794  5696608 2008-12-30 14:34:45  December \n",
       "243795  5696608 2008-12-30 16:32:12  December \n",
       "\n",
       "[243796 rows x 3 columns]"
      ]
     },
     "execution_count": 12,
     "metadata": {},
     "output_type": "execute_result"
    }
   ],
   "source": [
    "# напишите запрос\n",
    "query = '''\n",
    "SELECT user_id, creation_date,\n",
    "    TO_CHAR(LAG(creation_date, 2) OVER (PARTITION BY user_id ORDER BY creation_date), 'Month')\n",
    "FROM stackoverflow.posts\n",
    "'''\n",
    "\n",
    "df = pd.read_sql_query(query, con=engine) \n",
    "df"
   ]
  },
  {
   "cell_type": "markdown",
   "metadata": {
    "id": "tf9qq2yzDWK_"
   },
   "source": [
    "# Задание 8"
   ]
  },
  {
   "cell_type": "markdown",
   "metadata": {
    "id": "gfwLVXBYDWLA"
   },
   "source": [
    "Рассчитайте аналог Retention Rate по месяцам для пользователей StackOverflow. Объедините пользователей в когорты по месяцу их первого поста. Возвращение определяйте по наличию поста в текущем месяце. "
   ]
  },
  {
   "cell_type": "markdown",
   "metadata": {
    "id": "kN2ic39WlKpl"
   },
   "source": [
    "| cohort_dt | session_date | users_cnt | cohort_users_cnt | retention_rate |\n",
    "| --- | --- | --- | --- | --- |\n",
    "| 2008-07-01 00:00:00 | 2008-07-01 00:00:00 | 3 | 3 | 100 |\n",
    "| 2008-07-01 00:00:00 | 2008-08-01 00:00:00 | 2 | 3 | 66,67 |\n",
    "| 2008-07-01 00:00:00 | 2008-09-01 00:00:00 | 1 | 3 | 33,33 |\n",
    "| 2008-07-01 00:00:00 | 2008-10-01 00:00:00 | 2 | 3 | 66,67 |\n",
    "| 2008-07-01 00:00:00 | 2008-11-01 00:00:00 | 1 | 3 | 33,33 |\n",
    "| 2008-07-01 00:00:00 | 2008-12-01 00:00:00 | 2 | 3 | 66,67 |\n",
    "| 2008-08-01 00:00:00 | 2008-08-01 00:00:00 | 2151 | 2151 | 100 |\n",
    "| ... | ... | ... | ... | ... |"
   ]
  },
  {
   "cell_type": "code",
   "execution_count": 13,
   "metadata": {
    "id": "LUgFmwmTDWLB"
   },
   "outputs": [
    {
     "data": {
      "text/html": [
       "<div>\n",
       "<style scoped>\n",
       "    .dataframe tbody tr th:only-of-type {\n",
       "        vertical-align: middle;\n",
       "    }\n",
       "\n",
       "    .dataframe tbody tr th {\n",
       "        vertical-align: top;\n",
       "    }\n",
       "\n",
       "    .dataframe thead th {\n",
       "        text-align: right;\n",
       "    }\n",
       "</style>\n",
       "<table border=\"1\" class=\"dataframe\">\n",
       "  <thead>\n",
       "    <tr style=\"text-align: right;\">\n",
       "      <th></th>\n",
       "      <th>cohort_dt</th>\n",
       "      <th>session_dt</th>\n",
       "      <th>users_cnt</th>\n",
       "      <th>cohort_users_cnt</th>\n",
       "      <th>retention_rate</th>\n",
       "    </tr>\n",
       "  </thead>\n",
       "  <tbody>\n",
       "    <tr>\n",
       "      <th>0</th>\n",
       "      <td>2008-07-01</td>\n",
       "      <td>2008-07-01</td>\n",
       "      <td>3</td>\n",
       "      <td>3</td>\n",
       "      <td>100.00</td>\n",
       "    </tr>\n",
       "    <tr>\n",
       "      <th>1</th>\n",
       "      <td>2008-07-01</td>\n",
       "      <td>2008-08-01</td>\n",
       "      <td>2</td>\n",
       "      <td>3</td>\n",
       "      <td>66.67</td>\n",
       "    </tr>\n",
       "    <tr>\n",
       "      <th>2</th>\n",
       "      <td>2008-07-01</td>\n",
       "      <td>2008-09-01</td>\n",
       "      <td>1</td>\n",
       "      <td>3</td>\n",
       "      <td>33.33</td>\n",
       "    </tr>\n",
       "    <tr>\n",
       "      <th>3</th>\n",
       "      <td>2008-07-01</td>\n",
       "      <td>2008-10-01</td>\n",
       "      <td>2</td>\n",
       "      <td>3</td>\n",
       "      <td>66.67</td>\n",
       "    </tr>\n",
       "    <tr>\n",
       "      <th>4</th>\n",
       "      <td>2008-07-01</td>\n",
       "      <td>2008-11-01</td>\n",
       "      <td>1</td>\n",
       "      <td>3</td>\n",
       "      <td>33.33</td>\n",
       "    </tr>\n",
       "    <tr>\n",
       "      <th>5</th>\n",
       "      <td>2008-07-01</td>\n",
       "      <td>2008-12-01</td>\n",
       "      <td>2</td>\n",
       "      <td>3</td>\n",
       "      <td>66.67</td>\n",
       "    </tr>\n",
       "    <tr>\n",
       "      <th>6</th>\n",
       "      <td>2008-08-01</td>\n",
       "      <td>2008-08-01</td>\n",
       "      <td>2151</td>\n",
       "      <td>2151</td>\n",
       "      <td>100.00</td>\n",
       "    </tr>\n",
       "    <tr>\n",
       "      <th>7</th>\n",
       "      <td>2008-08-01</td>\n",
       "      <td>2008-09-01</td>\n",
       "      <td>1571</td>\n",
       "      <td>2151</td>\n",
       "      <td>73.04</td>\n",
       "    </tr>\n",
       "    <tr>\n",
       "      <th>8</th>\n",
       "      <td>2008-08-01</td>\n",
       "      <td>2008-10-01</td>\n",
       "      <td>1275</td>\n",
       "      <td>2151</td>\n",
       "      <td>59.27</td>\n",
       "    </tr>\n",
       "    <tr>\n",
       "      <th>9</th>\n",
       "      <td>2008-08-01</td>\n",
       "      <td>2008-11-01</td>\n",
       "      <td>1050</td>\n",
       "      <td>2151</td>\n",
       "      <td>48.81</td>\n",
       "    </tr>\n",
       "    <tr>\n",
       "      <th>10</th>\n",
       "      <td>2008-08-01</td>\n",
       "      <td>2008-12-01</td>\n",
       "      <td>894</td>\n",
       "      <td>2151</td>\n",
       "      <td>41.56</td>\n",
       "    </tr>\n",
       "    <tr>\n",
       "      <th>11</th>\n",
       "      <td>2008-09-01</td>\n",
       "      <td>2008-09-01</td>\n",
       "      <td>7678</td>\n",
       "      <td>7678</td>\n",
       "      <td>100.00</td>\n",
       "    </tr>\n",
       "    <tr>\n",
       "      <th>12</th>\n",
       "      <td>2008-09-01</td>\n",
       "      <td>2008-10-01</td>\n",
       "      <td>4132</td>\n",
       "      <td>7678</td>\n",
       "      <td>53.82</td>\n",
       "    </tr>\n",
       "    <tr>\n",
       "      <th>13</th>\n",
       "      <td>2008-09-01</td>\n",
       "      <td>2008-11-01</td>\n",
       "      <td>2966</td>\n",
       "      <td>7678</td>\n",
       "      <td>38.63</td>\n",
       "    </tr>\n",
       "    <tr>\n",
       "      <th>14</th>\n",
       "      <td>2008-09-01</td>\n",
       "      <td>2008-12-01</td>\n",
       "      <td>2500</td>\n",
       "      <td>7678</td>\n",
       "      <td>32.56</td>\n",
       "    </tr>\n",
       "    <tr>\n",
       "      <th>15</th>\n",
       "      <td>2008-10-01</td>\n",
       "      <td>2008-10-01</td>\n",
       "      <td>3629</td>\n",
       "      <td>3629</td>\n",
       "      <td>100.00</td>\n",
       "    </tr>\n",
       "    <tr>\n",
       "      <th>16</th>\n",
       "      <td>2008-10-01</td>\n",
       "      <td>2008-11-01</td>\n",
       "      <td>1640</td>\n",
       "      <td>3629</td>\n",
       "      <td>45.19</td>\n",
       "    </tr>\n",
       "    <tr>\n",
       "      <th>17</th>\n",
       "      <td>2008-10-01</td>\n",
       "      <td>2008-12-01</td>\n",
       "      <td>1221</td>\n",
       "      <td>3629</td>\n",
       "      <td>33.65</td>\n",
       "    </tr>\n",
       "    <tr>\n",
       "      <th>18</th>\n",
       "      <td>2008-11-01</td>\n",
       "      <td>2008-11-01</td>\n",
       "      <td>2852</td>\n",
       "      <td>2852</td>\n",
       "      <td>100.00</td>\n",
       "    </tr>\n",
       "    <tr>\n",
       "      <th>19</th>\n",
       "      <td>2008-11-01</td>\n",
       "      <td>2008-12-01</td>\n",
       "      <td>1151</td>\n",
       "      <td>2852</td>\n",
       "      <td>40.36</td>\n",
       "    </tr>\n",
       "    <tr>\n",
       "      <th>20</th>\n",
       "      <td>2008-12-01</td>\n",
       "      <td>2008-12-01</td>\n",
       "      <td>2536</td>\n",
       "      <td>2536</td>\n",
       "      <td>100.00</td>\n",
       "    </tr>\n",
       "  </tbody>\n",
       "</table>\n",
       "</div>"
      ],
      "text/plain": [
       "     cohort_dt  session_dt  users_cnt  cohort_users_cnt  retention_rate\n",
       "0   2008-07-01  2008-07-01          3                 3          100.00\n",
       "1   2008-07-01  2008-08-01          2                 3           66.67\n",
       "2   2008-07-01  2008-09-01          1                 3           33.33\n",
       "3   2008-07-01  2008-10-01          2                 3           66.67\n",
       "4   2008-07-01  2008-11-01          1                 3           33.33\n",
       "5   2008-07-01  2008-12-01          2                 3           66.67\n",
       "6   2008-08-01  2008-08-01       2151              2151          100.00\n",
       "7   2008-08-01  2008-09-01       1571              2151           73.04\n",
       "8   2008-08-01  2008-10-01       1275              2151           59.27\n",
       "9   2008-08-01  2008-11-01       1050              2151           48.81\n",
       "10  2008-08-01  2008-12-01        894              2151           41.56\n",
       "11  2008-09-01  2008-09-01       7678              7678          100.00\n",
       "12  2008-09-01  2008-10-01       4132              7678           53.82\n",
       "13  2008-09-01  2008-11-01       2966              7678           38.63\n",
       "14  2008-09-01  2008-12-01       2500              7678           32.56\n",
       "15  2008-10-01  2008-10-01       3629              3629          100.00\n",
       "16  2008-10-01  2008-11-01       1640              3629           45.19\n",
       "17  2008-10-01  2008-12-01       1221              3629           33.65\n",
       "18  2008-11-01  2008-11-01       2852              2852          100.00\n",
       "19  2008-11-01  2008-12-01       1151              2852           40.36\n",
       "20  2008-12-01  2008-12-01       2536              2536          100.00"
      ]
     },
     "execution_count": 13,
     "metadata": {},
     "output_type": "execute_result"
    }
   ],
   "source": [
    "# напишите запрос\n",
    "# напишите запрос\n",
    "query = '''\n",
    "WITH profile AS (\n",
    "    SELECT \n",
    "        user_id,\n",
    "        DATE_TRUNC('month', MIN(creation_date))::date as dt\n",
    "    FROM stackoverflow.posts\n",
    "    GROUP BY 1\n",
    "),\n",
    "sessions AS\n",
    "  (SELECT p.user_id,\n",
    "          DATE_TRUNC('month', creation_date)::date AS session_dt\n",
    "   FROM stackoverflow.posts e\n",
    "   JOIN profile p ON p.user_id = e.user_id\n",
    "   GROUP BY 1,\n",
    "            2),\n",
    "cohort_users_cnt AS\n",
    "  (SELECT dt,\n",
    "          COUNT(user_id) AS cohort_users_cnt\n",
    "   FROM profile\n",
    "   GROUP BY 1)\n",
    "\n",
    "SELECT p.dt AS cohort_dt,\n",
    "       s.session_dt,\n",
    "       COUNT(p.user_id) AS users_cnt,\n",
    "       c.cohort_users_cnt,\n",
    "       ROUND(COUNT(p.user_id) * 100.0 / c.cohort_users_cnt, 2) AS retention_rate\n",
    "FROM profile p\n",
    "JOIN sessions s ON p.user_id = s.user_id\n",
    "JOIN cohort_users_cnt c ON p.dt = c.dt\n",
    "GROUP BY 1,\n",
    "         2,\n",
    "         4;\n",
    "'''\n",
    "\n",
    "df = pd.read_sql_query(query, con=engine) \n",
    "df"
   ]
  },
  {
   "cell_type": "markdown",
   "metadata": {
    "id": "_msBtnb2DWLC"
   },
   "source": [
    "Постройте тепловую карту Retention Rate. Какие аномалии или другие необычные явления удалось выявить? Сформулируйте гипотезы о возможных причинах."
   ]
  },
  {
   "cell_type": "code",
   "execution_count": 14,
   "metadata": {
    "id": "qAEJc8H1DWLC"
   },
   "outputs": [
    {
     "data": {
      "image/png": "[encoded data removed]",
      "text/plain": [
       "<Figure size 720x576 with 2 Axes>"
      ]
     },
     "metadata": {
      "needs_background": "light"
     },
     "output_type": "display_data"
    }
   ],
   "source": [
    "# Pivot the DataFrame to get retention_rate values as a matrix\n",
    "cohort_matrix = df.pivot(index='cohort_dt', columns='session_dt', values='retention_rate')\n",
    "\n",
    "# Create the heatmap\n",
    "plt.figure(figsize=(10, 8))\n",
    "sns.heatmap(cohort_matrix, annot=True, cmap='YlGnBu', linewidths=0.5)\n",
    "plt.title('Когортный анализ - Retention Rate')\n",
    "plt.xlabel('Дата сессии')\n",
    "plt.ylabel('Дата создания когорты')\n",
    "plt.show()"
   ]
  },
  {
   "cell_type": "markdown",
   "metadata": {
    "id": "EgOfIsI4DWLC"
   },
   "source": [
    "аномалии заключаются в отсутсвие стабильного изменения Retention Rate.\n",
    "Видно, что у пользователей со временм снижается коеф. возврата."
   ]
  },
  {
   "cell_type": "markdown",
   "metadata": {
    "id": "1k7oPWt5DWLK"
   },
   "source": [
    "# Задание 9\n"
   ]
  },
  {
   "cell_type": "markdown",
   "metadata": {
    "id": "ALsYVSyRDWLM"
   },
   "source": [
    "На сколько процентов менялось количество постов ежемесячно с 1 сентября по 31 декабря 2008 года? Отобразите таблицу со следующими полями:\n",
    "\n",
    "- номер месяца;\n",
    "- количество постов за месяц;\n",
    "- процент, который показывает, насколько изменилось количество постов в текущем месяце по сравнению с предыдущим.\n",
    "\n",
    "Если постов стало меньше, значение процента должно быть отрицательным, если больше — положительным. Округлите значение процента до двух знаков после запятой.\n",
    "\n",
    "Напомним, что при делении одного целого числа на другое в PostgreSQL в результате получится целое число, округлённое до ближайшего целого вниз. Чтобы этого избежать, переведите делимое в тип `numeric`."
   ]
  },
  {
   "cell_type": "markdown",
   "metadata": {
    "id": "u4E2zF8DDWLM"
   },
   "source": [
    "| creation_month | posts_count | percentage |\n",
    "| -------------- | ----------- | ---------- |\n",
    "| 9 | 70731 | Nan |\n",
    "| 10 | 63102 | -10.33 |\n",
    "| ... | ... | ... |"
   ]
  },
  {
   "cell_type": "code",
   "execution_count": 15,
   "metadata": {
    "id": "Mb5pShStDWLN"
   },
   "outputs": [
    {
     "data": {
      "text/html": [
       "<div>\n",
       "<style scoped>\n",
       "    .dataframe tbody tr th:only-of-type {\n",
       "        vertical-align: middle;\n",
       "    }\n",
       "\n",
       "    .dataframe tbody tr th {\n",
       "        vertical-align: top;\n",
       "    }\n",
       "\n",
       "    .dataframe thead th {\n",
       "        text-align: right;\n",
       "    }\n",
       "</style>\n",
       "<table border=\"1\" class=\"dataframe\">\n",
       "  <thead>\n",
       "    <tr style=\"text-align: right;\">\n",
       "      <th></th>\n",
       "      <th>creation_month</th>\n",
       "      <th>posts_count</th>\n",
       "      <th>round</th>\n",
       "    </tr>\n",
       "  </thead>\n",
       "  <tbody>\n",
       "    <tr>\n",
       "      <th>0</th>\n",
       "      <td>9.0</td>\n",
       "      <td>70371</td>\n",
       "      <td>NaN</td>\n",
       "    </tr>\n",
       "    <tr>\n",
       "      <th>1</th>\n",
       "      <td>10.0</td>\n",
       "      <td>63102</td>\n",
       "      <td>-10.33</td>\n",
       "    </tr>\n",
       "    <tr>\n",
       "      <th>2</th>\n",
       "      <td>11.0</td>\n",
       "      <td>46975</td>\n",
       "      <td>-25.56</td>\n",
       "    </tr>\n",
       "    <tr>\n",
       "      <th>3</th>\n",
       "      <td>12.0</td>\n",
       "      <td>44592</td>\n",
       "      <td>-5.07</td>\n",
       "    </tr>\n",
       "  </tbody>\n",
       "</table>\n",
       "</div>"
      ],
      "text/plain": [
       "   creation_month  posts_count  round\n",
       "0             9.0        70371    NaN\n",
       "1            10.0        63102 -10.33\n",
       "2            11.0        46975 -25.56\n",
       "3            12.0        44592  -5.07"
      ]
     },
     "execution_count": 15,
     "metadata": {},
     "output_type": "execute_result"
    }
   ],
   "source": [
    "# напишите запрос\n",
    "query = '''\n",
    "WITH t1 AS (\n",
    "SELECT EXTRACT('month' FROM creation_date) as creation_month,\n",
    "       COUNT(*) as posts_count\n",
    "FROM stackoverflow.posts\n",
    "WHERE creation_date BETWEEN '01.09.2008'::date AND \n",
    "                            '01.01.2009'::date\n",
    "GROUP BY 1)\n",
    "SELECT *, \n",
    "    ROUND(((posts_count::numeric / LAG(posts_count) OVER (ORDER BY creation_month)) - 1) * 100, 2) \n",
    "FROM t1\n",
    "'''\n",
    "\n",
    "df = pd.read_sql_query(query, con=engine) \n",
    "df"
   ]
  },
  {
   "cell_type": "markdown",
   "metadata": {
    "id": "9NQE2y_MDWLP"
   },
   "source": [
    "Постройте круговую диаграмму с количеством постов по месяцам."
   ]
  },
  {
   "cell_type": "code",
   "execution_count": 16,
   "metadata": {
    "id": "377ABjiVDWLP"
   },
   "outputs": [
    {
     "data": {
      "text/plain": [
       "<Figure size 720x1440 with 0 Axes>"
      ]
     },
     "metadata": {},
     "output_type": "display_data"
    },
    {
     "data": {
      "image/png": "[encoded data removed]",
      "text/plain": [
       "<Figure size 432x288 with 1 Axes>"
      ]
     },
     "metadata": {},
     "output_type": "display_data"
    }
   ],
   "source": [
    "colors = ['#0077b5', '#9b59b6', '#00a651', '#d62728']\n",
    "\n",
    "plt.figure(figsize=(10, 20))\n",
    "fig, ax = plt.subplots()\n",
    "\n",
    "wedges, texts, autotexts = ax.pie(df.posts_count, labels=df.posts_count, colors=colors, wedgeprops={'linewidth': 0}, autopct='%1.1f%%')\n",
    "\n",
    "centre_circle = plt.Circle((0, 0), 0.5, color='white', fc='white', linewidth=0)\n",
    "\n",
    "ax.add_artist(centre_circle)\n",
    "\n",
    "for text in texts:\n",
    "    text.set_color('black')  # Цвет текста будет белым\n",
    "\n",
    "for autotext in autotexts:\n",
    "    autotext.set_color('black')  # Цвет процентных значений тоже будет белым\n",
    "\n",
    "ax.set(aspect='equal')\n",
    "\n",
    "plt.title('Круговая диаграмма с количеством постов по месяцам')\n",
    "\n",
    "ax.legend(df.creation_month, loc='center left', bbox_to_anchor=(1.0, 0.5))\n",
    "\n",
    "plt.show()"
   ]
  },
  {
   "cell_type": "markdown",
   "metadata": {
    "id": "uw7qMtafDWLP"
   },
   "source": [
    "# Задание 10"
   ]
  },
  {
   "cell_type": "markdown",
   "metadata": {
    "id": "oRBpWKx3DWLQ"
   },
   "source": [
    "Выгрузите данные активности пользователя, который опубликовал больше всего постов за всё время. Выведите данные за октябрь 2008 года в таком виде:\n",
    "\n",
    "- номер недели;\n",
    "- дата и время последнего поста, опубликованного на этой неделе."
   ]
  },
  {
   "cell_type": "markdown",
   "metadata": {
    "id": "XjAWSn_3DWLQ"
   },
   "source": [
    "| week_creation | creation_date |\n",
    "| ------------- | ------------- |\n",
    "| 40 | 2008-10-05 09:00:58 |\n",
    "| 41 | 2008-10-12 21:22:23 |\n",
    "| ... | ... |"
   ]
  },
  {
   "cell_type": "code",
   "execution_count": 17,
   "metadata": {
    "id": "r5F5fSkwDWLQ"
   },
   "outputs": [
    {
     "data": {
      "text/html": [
       "<div>\n",
       "<style scoped>\n",
       "    .dataframe tbody tr th:only-of-type {\n",
       "        vertical-align: middle;\n",
       "    }\n",
       "\n",
       "    .dataframe tbody tr th {\n",
       "        vertical-align: top;\n",
       "    }\n",
       "\n",
       "    .dataframe thead th {\n",
       "        text-align: right;\n",
       "    }\n",
       "</style>\n",
       "<table border=\"1\" class=\"dataframe\">\n",
       "  <thead>\n",
       "    <tr style=\"text-align: right;\">\n",
       "      <th></th>\n",
       "      <th>week_creation</th>\n",
       "      <th>creation_date</th>\n",
       "    </tr>\n",
       "  </thead>\n",
       "  <tbody>\n",
       "    <tr>\n",
       "      <th>0</th>\n",
       "      <td>40.0</td>\n",
       "      <td>2008-10-05 09:00:58</td>\n",
       "    </tr>\n",
       "    <tr>\n",
       "      <th>1</th>\n",
       "      <td>41.0</td>\n",
       "      <td>2008-10-12 21:22:23</td>\n",
       "    </tr>\n",
       "    <tr>\n",
       "      <th>2</th>\n",
       "      <td>42.0</td>\n",
       "      <td>2008-10-19 06:49:30</td>\n",
       "    </tr>\n",
       "    <tr>\n",
       "      <th>3</th>\n",
       "      <td>43.0</td>\n",
       "      <td>2008-10-26 21:44:36</td>\n",
       "    </tr>\n",
       "    <tr>\n",
       "      <th>4</th>\n",
       "      <td>44.0</td>\n",
       "      <td>2008-10-31 22:16:01</td>\n",
       "    </tr>\n",
       "  </tbody>\n",
       "</table>\n",
       "</div>"
      ],
      "text/plain": [
       "   week_creation       creation_date\n",
       "0           40.0 2008-10-05 09:00:58\n",
       "1           41.0 2008-10-12 21:22:23\n",
       "2           42.0 2008-10-19 06:49:30\n",
       "3           43.0 2008-10-26 21:44:36\n",
       "4           44.0 2008-10-31 22:16:01"
      ]
     },
     "execution_count": 17,
     "metadata": {},
     "output_type": "execute_result"
    }
   ],
   "source": [
    "# напишите запрос\n",
    "query = '''\n",
    "WITH t1 AS (\n",
    "SELECT user_id,\n",
    "       COUNT(*) as total_amount\n",
    "FROM stackoverflow.posts\n",
    "GROUP BY user_id\n",
    "ORDER BY total_amount DESC\n",
    "LIMIT 1), \n",
    "t2 AS (\n",
    "SELECT creation_date,\n",
    "       EXTRACT('week' FROM creation_date) AS week_creation\n",
    "FROM stackoverflow.posts\n",
    "WHERE user_id in (SELECT user_id FROM t1) AND\n",
    "      creation_date BETWEEN '2008-10-01'::date AND\n",
    "                            '2008-11-01'::date\n",
    ")\n",
    "SELECT DISTINCT week_creation, \n",
    "       LAST_VALUE(creation_date) OVER (PARTITION BY week_creation ORDER BY week_creation ASC) as creation_date\n",
    "FROM t2\n",
    "ORDER BY week_creation\n",
    "'''\n",
    "\n",
    "df = pd.read_sql_query(query, con=engine) \n",
    "df"
   ]
  }
 ],
 "metadata": {
  "ExecuteTimeLog": [
   {
    "duration": 1029,
    "start_time": "2023-07-19T16:15:23.507Z"
   },
   {
    "duration": 4,
    "start_time": "2023-07-19T16:15:24.538Z"
   },
   {
    "duration": 7777,
    "start_time": "2023-07-19T16:15:29.080Z"
   },
   {
    "duration": 51,
    "start_time": "2023-07-19T16:15:38.755Z"
   },
   {
    "duration": 19,
    "start_time": "2023-07-19T16:15:39.179Z"
   },
   {
    "duration": 1776,
    "start_time": "2023-07-19T16:16:44.800Z"
   },
   {
    "duration": 165,
    "start_time": "2023-07-19T16:19:08.376Z"
   },
   {
    "duration": 939,
    "start_time": "2023-07-19T16:19:29.696Z"
   },
   {
    "duration": 89,
    "start_time": "2023-07-19T16:19:43.391Z"
   },
   {
    "duration": 834,
    "start_time": "2023-07-19T16:19:47.811Z"
   },
   {
    "duration": 93,
    "start_time": "2023-07-19T16:20:17.955Z"
   },
   {
    "duration": 887,
    "start_time": "2023-07-19T16:20:28.445Z"
   },
   {
    "duration": 918,
    "start_time": "2023-07-19T16:20:41.931Z"
   },
   {
    "duration": 214,
    "start_time": "2023-07-19T16:20:50.742Z"
   },
   {
    "duration": 129,
    "start_time": "2023-07-19T16:21:43.113Z"
   },
   {
    "duration": 121,
    "start_time": "2023-07-19T16:21:52.138Z"
   },
   {
    "duration": 127,
    "start_time": "2023-07-19T16:21:56.940Z"
   },
   {
    "duration": 125,
    "start_time": "2023-07-19T16:22:10.778Z"
   },
   {
    "duration": 150,
    "start_time": "2023-07-19T16:27:10.637Z"
   },
   {
    "duration": 325,
    "start_time": "2023-07-19T16:29:47.542Z"
   },
   {
    "duration": 11,
    "start_time": "2023-07-19T16:32:09.873Z"
   },
   {
    "duration": 1965,
    "start_time": "2023-07-19T16:32:21.160Z"
   },
   {
    "duration": 406,
    "start_time": "2023-07-19T16:32:28.693Z"
   },
   {
    "duration": 248,
    "start_time": "2023-07-19T16:35:07.546Z"
   },
   {
    "duration": 112,
    "start_time": "2023-07-19T16:35:35.100Z"
   },
   {
    "duration": 337,
    "start_time": "2023-07-19T16:35:55.797Z"
   },
   {
    "duration": 139,
    "start_time": "2023-07-19T16:36:14.261Z"
   },
   {
    "duration": 208,
    "start_time": "2023-07-19T16:36:23.546Z"
   },
   {
    "duration": 129,
    "start_time": "2023-07-19T16:37:07.033Z"
   },
   {
    "duration": 193,
    "start_time": "2023-07-19T16:37:18.305Z"
   },
   {
    "duration": 62,
    "start_time": "2023-07-19T16:37:34.497Z"
   },
   {
    "duration": 1296,
    "start_time": "2023-07-21T12:18:59.852Z"
   },
   {
    "duration": 22,
    "start_time": "2023-07-21T12:19:01.151Z"
   },
   {
    "duration": 25681,
    "start_time": "2023-07-21T12:19:01.175Z"
   },
   {
    "duration": 386,
    "start_time": "2023-07-21T12:19:26.858Z"
   },
   {
    "duration": 32,
    "start_time": "2023-07-21T12:19:27.246Z"
   },
   {
    "duration": 240,
    "start_time": "2023-07-21T12:19:27.281Z"
   },
   {
    "duration": 623,
    "start_time": "2023-07-21T12:19:27.523Z"
   },
   {
    "duration": 0,
    "start_time": "2023-07-21T12:19:28.148Z"
   },
   {
    "duration": 0,
    "start_time": "2023-07-21T12:19:28.149Z"
   },
   {
    "duration": 0,
    "start_time": "2023-07-21T12:19:28.150Z"
   },
   {
    "duration": 0,
    "start_time": "2023-07-21T12:19:28.156Z"
   },
   {
    "duration": 0,
    "start_time": "2023-07-21T12:19:28.158Z"
   },
   {
    "duration": 0,
    "start_time": "2023-07-21T12:19:28.163Z"
   },
   {
    "duration": 0,
    "start_time": "2023-07-21T12:19:28.173Z"
   },
   {
    "duration": 0,
    "start_time": "2023-07-21T12:19:28.174Z"
   },
   {
    "duration": 0,
    "start_time": "2023-07-21T12:19:28.176Z"
   },
   {
    "duration": 0,
    "start_time": "2023-07-21T12:19:28.179Z"
   },
   {
    "duration": 0,
    "start_time": "2023-07-21T12:19:28.181Z"
   },
   {
    "duration": 0,
    "start_time": "2023-07-21T12:19:28.182Z"
   },
   {
    "duration": 0,
    "start_time": "2023-07-21T12:19:28.183Z"
   },
   {
    "duration": 0,
    "start_time": "2023-07-21T12:19:28.184Z"
   },
   {
    "duration": 439,
    "start_time": "2023-07-21T12:19:33.134Z"
   },
   {
    "duration": 309,
    "start_time": "2023-07-21T12:19:58.283Z"
   },
   {
    "duration": 405,
    "start_time": "2023-07-21T12:20:10.020Z"
   },
   {
    "duration": 264,
    "start_time": "2023-07-21T12:20:36.815Z"
   },
   {
    "duration": 428,
    "start_time": "2023-07-21T13:00:38.495Z"
   },
   {
    "duration": 2891,
    "start_time": "2023-07-21T13:00:44.595Z"
   },
   {
    "duration": 2112,
    "start_time": "2023-07-21T13:00:56.846Z"
   },
   {
    "duration": 315,
    "start_time": "2023-07-21T13:02:16.943Z"
   },
   {
    "duration": 374,
    "start_time": "2023-07-21T13:02:24.799Z"
   },
   {
    "duration": 1578,
    "start_time": "2023-07-21T13:02:34.689Z"
   },
   {
    "duration": 291,
    "start_time": "2023-07-21T13:06:09.920Z"
   },
   {
    "duration": 339,
    "start_time": "2023-07-21T13:06:19.031Z"
   },
   {
    "duration": 432,
    "start_time": "2023-07-21T13:06:28.489Z"
   },
   {
    "duration": 18549,
    "start_time": "2023-07-21T13:06:33.274Z"
   },
   {
    "duration": 464,
    "start_time": "2023-07-21T13:07:44.667Z"
   },
   {
    "duration": 280,
    "start_time": "2023-07-21T13:09:53.171Z"
   },
   {
    "duration": 1310,
    "start_time": "2023-07-21T13:10:24.027Z"
   },
   {
    "duration": 1850,
    "start_time": "2023-07-21T13:10:34.280Z"
   },
   {
    "duration": 1326,
    "start_time": "2023-07-21T13:11:07.477Z"
   },
   {
    "duration": 1146,
    "start_time": "2023-07-21T13:12:09.981Z"
   },
   {
    "duration": 1585,
    "start_time": "2023-07-21T13:13:20.736Z"
   },
   {
    "duration": 1521,
    "start_time": "2023-07-21T13:13:29.080Z"
   },
   {
    "duration": 189,
    "start_time": "2023-07-21T13:13:44.055Z"
   },
   {
    "duration": 416,
    "start_time": "2023-07-21T13:14:47.648Z"
   },
   {
    "duration": 1410,
    "start_time": "2023-07-21T13:15:02.611Z"
   },
   {
    "duration": 236,
    "start_time": "2023-07-21T13:15:07.551Z"
   },
   {
    "duration": 282,
    "start_time": "2023-07-21T13:17:00.737Z"
   },
   {
    "duration": 317,
    "start_time": "2023-07-21T13:17:12.881Z"
   },
   {
    "duration": 540,
    "start_time": "2023-07-21T13:20:06.099Z"
   },
   {
    "duration": 2896,
    "start_time": "2023-07-21T13:20:12.571Z"
   },
   {
    "duration": 292,
    "start_time": "2023-07-21T13:20:36.986Z"
   },
   {
    "duration": 2836,
    "start_time": "2023-07-21T13:20:46.378Z"
   },
   {
    "duration": 168,
    "start_time": "2023-07-21T13:22:02.644Z"
   },
   {
    "duration": 690,
    "start_time": "2023-07-21T13:23:32.147Z"
   },
   {
    "duration": 424,
    "start_time": "2023-07-21T13:24:06.383Z"
   },
   {
    "duration": 274,
    "start_time": "2023-07-21T13:24:15.218Z"
   },
   {
    "duration": 2586,
    "start_time": "2023-07-21T13:24:57.180Z"
   },
   {
    "duration": 408,
    "start_time": "2023-07-21T13:26:55.735Z"
   },
   {
    "duration": 356,
    "start_time": "2023-07-21T13:28:00.131Z"
   },
   {
    "duration": 217,
    "start_time": "2023-07-21T13:28:15.717Z"
   },
   {
    "duration": 201,
    "start_time": "2023-07-21T13:31:16.340Z"
   },
   {
    "duration": 2834,
    "start_time": "2023-07-21T13:35:20.410Z"
   },
   {
    "duration": 1430,
    "start_time": "2023-07-21T13:40:28.402Z"
   },
   {
    "duration": 1300,
    "start_time": "2023-07-21T13:40:54.791Z"
   },
   {
    "duration": 1450,
    "start_time": "2023-07-21T13:41:05.469Z"
   },
   {
    "duration": 222,
    "start_time": "2023-07-21T13:43:46.308Z"
   },
   {
    "duration": 1692,
    "start_time": "2023-07-21T13:43:49.694Z"
   },
   {
    "duration": 338,
    "start_time": "2023-07-21T13:45:18.575Z"
   },
   {
    "duration": 247,
    "start_time": "2023-07-21T13:45:24.173Z"
   },
   {
    "duration": 180,
    "start_time": "2023-07-21T13:45:31.689Z"
   },
   {
    "duration": 113,
    "start_time": "2023-07-21T13:45:39.670Z"
   },
   {
    "duration": 104,
    "start_time": "2023-07-21T13:45:46.277Z"
   },
   {
    "duration": 76,
    "start_time": "2023-07-21T13:46:37.095Z"
   },
   {
    "duration": 77,
    "start_time": "2023-07-21T13:46:49.851Z"
   },
   {
    "duration": 751,
    "start_time": "2023-07-21T13:47:06.788Z"
   },
   {
    "duration": 1594,
    "start_time": "2023-07-21T13:47:10.694Z"
   },
   {
    "duration": 210,
    "start_time": "2023-07-21T13:47:49.571Z"
   },
   {
    "duration": 94,
    "start_time": "2023-07-21T13:48:39.317Z"
   },
   {
    "duration": 91,
    "start_time": "2023-07-21T13:48:46.955Z"
   },
   {
    "duration": 70,
    "start_time": "2023-07-21T13:49:04.860Z"
   },
   {
    "duration": 69,
    "start_time": "2023-07-21T13:49:36.390Z"
   },
   {
    "duration": 66,
    "start_time": "2023-07-21T13:49:43.868Z"
   },
   {
    "duration": 69,
    "start_time": "2023-07-21T13:49:46.018Z"
   },
   {
    "duration": 75,
    "start_time": "2023-07-21T13:49:48.364Z"
   },
   {
    "duration": 2056,
    "start_time": "2023-07-21T13:49:57.899Z"
   },
   {
    "duration": 202,
    "start_time": "2023-07-21T13:51:13.241Z"
   },
   {
    "duration": 134,
    "start_time": "2023-07-21T13:51:16.233Z"
   },
   {
    "duration": 144,
    "start_time": "2023-07-21T13:51:54.138Z"
   },
   {
    "duration": 117,
    "start_time": "2023-07-21T13:53:16.447Z"
   },
   {
    "duration": 252,
    "start_time": "2023-07-21T13:53:30.536Z"
   },
   {
    "duration": 105,
    "start_time": "2023-07-21T13:53:42.681Z"
   },
   {
    "duration": 243,
    "start_time": "2023-07-21T13:53:50.372Z"
   },
   {
    "duration": 104,
    "start_time": "2023-07-21T13:54:03.469Z"
   },
   {
    "duration": 110,
    "start_time": "2023-07-21T13:54:26.950Z"
   },
   {
    "duration": 108,
    "start_time": "2023-07-21T13:54:44.962Z"
   },
   {
    "duration": 121,
    "start_time": "2023-07-21T13:54:59.345Z"
   },
   {
    "duration": 105,
    "start_time": "2023-07-21T13:55:24.180Z"
   },
   {
    "duration": 87,
    "start_time": "2023-07-21T13:56:04.144Z"
   },
   {
    "duration": 106,
    "start_time": "2023-07-21T13:56:23.143Z"
   },
   {
    "duration": 1881,
    "start_time": "2023-07-21T13:58:25.701Z"
   },
   {
    "duration": 1675,
    "start_time": "2023-07-21T13:59:08.446Z"
   },
   {
    "duration": 125,
    "start_time": "2023-07-21T13:59:58.783Z"
   },
   {
    "duration": 104,
    "start_time": "2023-07-21T14:00:13.561Z"
   },
   {
    "duration": 105,
    "start_time": "2023-07-21T14:00:37.993Z"
   },
   {
    "duration": 247,
    "start_time": "2023-07-21T14:01:08.402Z"
   },
   {
    "duration": 816,
    "start_time": "2023-07-24T14:21:22.969Z"
   },
   {
    "duration": 4,
    "start_time": "2023-07-24T14:21:23.786Z"
   },
   {
    "duration": 8092,
    "start_time": "2023-07-24T14:21:23.791Z"
   },
   {
    "duration": 68,
    "start_time": "2023-07-24T14:21:31.885Z"
   },
   {
    "duration": 12,
    "start_time": "2023-07-24T14:21:31.954Z"
   },
   {
    "duration": 146,
    "start_time": "2023-07-24T14:21:31.968Z"
   },
   {
    "duration": 234,
    "start_time": "2023-07-24T14:21:32.116Z"
   },
   {
    "duration": 121,
    "start_time": "2023-07-24T14:21:32.351Z"
   },
   {
    "duration": 1102,
    "start_time": "2023-07-24T14:21:32.474Z"
   },
   {
    "duration": 58,
    "start_time": "2023-07-24T14:21:33.579Z"
   },
   {
    "duration": 146,
    "start_time": "2023-07-24T14:21:33.638Z"
   },
   {
    "duration": 0,
    "start_time": "2023-07-24T14:21:33.786Z"
   },
   {
    "duration": 0,
    "start_time": "2023-07-24T14:21:33.787Z"
   },
   {
    "duration": 0,
    "start_time": "2023-07-24T14:21:33.789Z"
   },
   {
    "duration": 0,
    "start_time": "2023-07-24T14:21:33.790Z"
   },
   {
    "duration": 0,
    "start_time": "2023-07-24T14:21:33.791Z"
   },
   {
    "duration": 0,
    "start_time": "2023-07-24T14:21:33.792Z"
   },
   {
    "duration": 0,
    "start_time": "2023-07-24T14:21:33.793Z"
   },
   {
    "duration": 0,
    "start_time": "2023-07-24T14:21:33.794Z"
   },
   {
    "duration": 89,
    "start_time": "2023-07-24T14:24:26.316Z"
   },
   {
    "duration": 81,
    "start_time": "2023-07-24T14:25:07.865Z"
   },
   {
    "duration": 99,
    "start_time": "2023-07-24T14:25:21.169Z"
   },
   {
    "duration": 89,
    "start_time": "2023-07-24T14:25:31.332Z"
   },
   {
    "duration": 159,
    "start_time": "2023-07-24T14:25:47.185Z"
   },
   {
    "duration": 97,
    "start_time": "2023-07-24T14:26:05.222Z"
   },
   {
    "duration": 101,
    "start_time": "2023-07-24T14:26:30.135Z"
   },
   {
    "duration": 120,
    "start_time": "2023-07-24T14:26:42.200Z"
   },
   {
    "duration": 47,
    "start_time": "2023-07-24T14:27:45.135Z"
   },
   {
    "duration": 44,
    "start_time": "2023-07-24T14:27:56.142Z"
   },
   {
    "duration": 1411,
    "start_time": "2023-07-24T14:30:27.598Z"
   },
   {
    "duration": 665,
    "start_time": "2023-07-24T14:30:40.236Z"
   },
   {
    "duration": 1014,
    "start_time": "2023-07-24T14:32:37.557Z"
   },
   {
    "duration": 1098,
    "start_time": "2023-07-24T14:32:59.365Z"
   },
   {
    "duration": 1094,
    "start_time": "2023-07-24T14:34:10.107Z"
   },
   {
    "duration": 1052,
    "start_time": "2023-07-24T14:34:43.111Z"
   },
   {
    "duration": 105,
    "start_time": "2023-07-24T14:35:22.336Z"
   },
   {
    "duration": 995,
    "start_time": "2023-07-24T14:35:26.979Z"
   },
   {
    "duration": 987,
    "start_time": "2023-07-24T14:35:51.520Z"
   },
   {
    "duration": 1121,
    "start_time": "2023-07-24T14:36:01.774Z"
   },
   {
    "duration": 1471,
    "start_time": "2023-07-24T14:37:31.854Z"
   },
   {
    "duration": 86,
    "start_time": "2023-07-24T14:37:49.246Z"
   },
   {
    "duration": 107,
    "start_time": "2023-07-24T14:38:01.224Z"
   },
   {
    "duration": 102,
    "start_time": "2023-07-24T14:38:36.281Z"
   },
   {
    "duration": 68,
    "start_time": "2023-07-24T14:38:48.080Z"
   },
   {
    "duration": 1560,
    "start_time": "2023-07-24T14:38:59.154Z"
   },
   {
    "duration": 715,
    "start_time": "2023-07-24T14:39:26.000Z"
   },
   {
    "duration": 773,
    "start_time": "2023-07-24T14:39:47.963Z"
   },
   {
    "duration": 818,
    "start_time": "2023-07-24T14:40:24.169Z"
   },
   {
    "duration": 105,
    "start_time": "2023-07-24T14:40:46.122Z"
   },
   {
    "duration": 98,
    "start_time": "2023-07-24T14:41:44.202Z"
   },
   {
    "duration": 101,
    "start_time": "2023-07-24T14:41:48.505Z"
   },
   {
    "duration": 111,
    "start_time": "2023-07-24T14:42:04.138Z"
   },
   {
    "duration": 98,
    "start_time": "2023-07-24T14:42:15.727Z"
   },
   {
    "duration": 103,
    "start_time": "2023-07-24T14:42:22.302Z"
   },
   {
    "duration": 138,
    "start_time": "2023-07-24T14:43:26.971Z"
   },
   {
    "duration": 772,
    "start_time": "2023-07-24T14:43:29.233Z"
   },
   {
    "duration": 93,
    "start_time": "2023-07-24T14:43:52.549Z"
   },
   {
    "duration": 92,
    "start_time": "2023-07-24T14:43:54.373Z"
   },
   {
    "duration": 105,
    "start_time": "2023-07-24T14:43:59.624Z"
   },
   {
    "duration": 106,
    "start_time": "2023-07-24T14:44:29.310Z"
   },
   {
    "duration": 484,
    "start_time": "2023-07-24T14:44:53.082Z"
   },
   {
    "duration": 90,
    "start_time": "2023-07-24T14:45:00.605Z"
   },
   {
    "duration": 98,
    "start_time": "2023-07-24T14:45:06.487Z"
   },
   {
    "duration": 102,
    "start_time": "2023-07-24T14:45:15.108Z"
   },
   {
    "duration": 105,
    "start_time": "2023-07-24T14:45:21.957Z"
   },
   {
    "duration": 78,
    "start_time": "2023-07-24T14:45:32.798Z"
   },
   {
    "duration": 100,
    "start_time": "2023-07-24T14:45:41.680Z"
   },
   {
    "duration": 101,
    "start_time": "2023-07-24T14:45:59.626Z"
   },
   {
    "duration": 101,
    "start_time": "2023-07-24T14:46:06.957Z"
   },
   {
    "duration": 100,
    "start_time": "2023-07-24T14:46:14.428Z"
   },
   {
    "duration": 101,
    "start_time": "2023-07-24T14:46:22.537Z"
   },
   {
    "duration": 1503,
    "start_time": "2023-07-24T14:47:14.417Z"
   },
   {
    "duration": 2097,
    "start_time": "2023-07-24T14:47:45.638Z"
   },
   {
    "duration": 2177,
    "start_time": "2023-07-24T14:47:55.907Z"
   },
   {
    "duration": 94,
    "start_time": "2023-07-24T14:49:05.924Z"
   },
   {
    "duration": 93,
    "start_time": "2023-07-24T14:49:10.060Z"
   },
   {
    "duration": 86,
    "start_time": "2023-07-24T14:49:17.624Z"
   },
   {
    "duration": 96,
    "start_time": "2023-07-24T14:49:20.268Z"
   },
   {
    "duration": 2013,
    "start_time": "2023-07-24T14:49:25.747Z"
   },
   {
    "duration": 83,
    "start_time": "2023-07-24T14:49:56.349Z"
   },
   {
    "duration": 84,
    "start_time": "2023-07-24T14:50:01.127Z"
   },
   {
    "duration": 89,
    "start_time": "2023-07-24T14:50:33.523Z"
   },
   {
    "duration": 2063,
    "start_time": "2023-07-24T14:50:37.735Z"
   },
   {
    "duration": 776,
    "start_time": "2023-07-24T14:52:09.574Z"
   },
   {
    "duration": 1561,
    "start_time": "2023-07-24T14:53:18.058Z"
   },
   {
    "duration": 706,
    "start_time": "2023-07-24T14:55:05.649Z"
   },
   {
    "duration": 3,
    "start_time": "2023-07-24T14:55:06.357Z"
   },
   {
    "duration": 8323,
    "start_time": "2023-07-24T14:55:06.361Z"
   },
   {
    "duration": 45,
    "start_time": "2023-07-24T14:55:14.686Z"
   },
   {
    "duration": 13,
    "start_time": "2023-07-24T14:55:14.732Z"
   },
   {
    "duration": 139,
    "start_time": "2023-07-24T14:55:14.746Z"
   },
   {
    "duration": 239,
    "start_time": "2023-07-24T14:55:14.887Z"
   },
   {
    "duration": 124,
    "start_time": "2023-07-24T14:55:15.128Z"
   },
   {
    "duration": 1201,
    "start_time": "2023-07-24T14:55:15.254Z"
   },
   {
    "duration": 60,
    "start_time": "2023-07-24T14:55:16.457Z"
   },
   {
    "duration": 45,
    "start_time": "2023-07-24T14:55:16.518Z"
   },
   {
    "duration": 1077,
    "start_time": "2023-07-24T14:55:16.564Z"
   },
   {
    "duration": 661,
    "start_time": "2023-07-24T14:55:17.643Z"
   },
   {
    "duration": 3,
    "start_time": "2023-07-24T14:55:18.305Z"
   },
   {
    "duration": 13,
    "start_time": "2023-07-24T14:55:18.309Z"
   },
   {
    "duration": 1383,
    "start_time": "2023-07-24T14:55:18.323Z"
   },
   {
    "duration": 2,
    "start_time": "2023-07-24T14:55:19.708Z"
   },
   {
    "duration": 117,
    "start_time": "2023-07-24T14:55:19.711Z"
   },
   {
    "duration": 1531,
    "start_time": "2023-07-24T14:55:44.044Z"
   },
   {
    "duration": 1389,
    "start_time": "2023-07-24T14:55:58.659Z"
   },
   {
    "duration": 1293,
    "start_time": "2023-07-24T14:56:07.101Z"
   },
   {
    "duration": 103,
    "start_time": "2023-07-24T14:56:43.948Z"
   },
   {
    "duration": 107,
    "start_time": "2023-07-24T14:57:42.549Z"
   },
   {
    "duration": 104,
    "start_time": "2023-07-24T14:57:48.873Z"
   },
   {
    "duration": 108,
    "start_time": "2023-07-24T14:58:06.704Z"
   },
   {
    "duration": 107,
    "start_time": "2023-07-24T14:58:14.155Z"
   },
   {
    "duration": 103,
    "start_time": "2023-07-24T14:58:21.126Z"
   },
   {
    "duration": 106,
    "start_time": "2023-07-24T14:59:04.520Z"
   },
   {
    "duration": 104,
    "start_time": "2023-07-24T14:59:14.896Z"
   },
   {
    "duration": 107,
    "start_time": "2023-07-24T14:59:20.880Z"
   },
   {
    "duration": 107,
    "start_time": "2023-07-24T14:59:24.644Z"
   },
   {
    "duration": 160,
    "start_time": "2023-07-24T14:59:34.939Z"
   },
   {
    "duration": 107,
    "start_time": "2023-07-24T14:59:41.200Z"
   },
   {
    "duration": 109,
    "start_time": "2023-07-24T14:59:44.595Z"
   },
   {
    "duration": 86,
    "start_time": "2023-07-24T14:59:56.343Z"
   },
   {
    "duration": 107,
    "start_time": "2023-07-24T15:00:03.438Z"
   },
   {
    "duration": 104,
    "start_time": "2023-07-24T15:00:18.951Z"
   },
   {
    "duration": 107,
    "start_time": "2023-07-24T15:01:57.973Z"
   },
   {
    "duration": 103,
    "start_time": "2023-07-24T15:02:10.172Z"
   },
   {
    "duration": 112,
    "start_time": "2023-07-24T15:02:36.596Z"
   },
   {
    "duration": 94,
    "start_time": "2023-07-24T15:03:04.313Z"
   },
   {
    "duration": 53,
    "start_time": "2023-07-24T15:03:13.344Z"
   },
   {
    "duration": 75,
    "start_time": "2023-07-24T15:03:20.358Z"
   },
   {
    "duration": 134,
    "start_time": "2023-07-24T15:03:31.755Z"
   },
   {
    "duration": 150,
    "start_time": "2023-07-24T15:03:45.340Z"
   },
   {
    "duration": 129,
    "start_time": "2023-07-24T15:03:53.127Z"
   },
   {
    "duration": 125,
    "start_time": "2023-07-24T15:03:58.484Z"
   },
   {
    "duration": 156,
    "start_time": "2023-07-24T15:04:12.651Z"
   },
   {
    "duration": 146,
    "start_time": "2023-07-24T15:04:46.541Z"
   },
   {
    "duration": 127,
    "start_time": "2023-07-24T15:05:31.654Z"
   },
   {
    "duration": 130,
    "start_time": "2023-07-24T15:05:43.493Z"
   },
   {
    "duration": 11,
    "start_time": "2023-07-24T15:06:04.209Z"
   },
   {
    "duration": 75,
    "start_time": "2023-07-24T15:07:07.862Z"
   },
   {
    "duration": 151,
    "start_time": "2023-07-24T15:07:14.169Z"
   },
   {
    "duration": 72,
    "start_time": "2023-07-24T15:07:18.404Z"
   },
   {
    "duration": 75,
    "start_time": "2023-07-24T15:07:23.527Z"
   },
   {
    "duration": 94,
    "start_time": "2023-07-24T15:08:57.327Z"
   },
   {
    "duration": 89,
    "start_time": "2023-07-24T15:08:59.427Z"
   },
   {
    "duration": 67,
    "start_time": "2023-07-24T15:10:10.380Z"
   },
   {
    "duration": 85,
    "start_time": "2023-07-24T15:10:48.700Z"
   },
   {
    "duration": 79,
    "start_time": "2023-07-24T15:11:52.121Z"
   },
   {
    "duration": 83,
    "start_time": "2023-07-24T15:12:00.707Z"
   },
   {
    "duration": 71,
    "start_time": "2023-07-24T15:12:09.907Z"
   },
   {
    "duration": 143,
    "start_time": "2023-07-24T15:12:22.334Z"
   },
   {
    "duration": 77,
    "start_time": "2023-07-24T15:12:27.839Z"
   },
   {
    "duration": 82,
    "start_time": "2023-07-24T15:12:37.318Z"
   },
   {
    "duration": 87,
    "start_time": "2023-07-24T15:13:29.097Z"
   },
   {
    "duration": 120,
    "start_time": "2023-07-24T15:13:34.601Z"
   },
   {
    "duration": 95,
    "start_time": "2023-07-24T15:13:45.529Z"
   },
   {
    "duration": 229,
    "start_time": "2023-07-24T15:13:51.879Z"
   },
   {
    "duration": 108,
    "start_time": "2023-07-24T15:14:29.481Z"
   },
   {
    "duration": 5,
    "start_time": "2023-07-24T15:14:47.353Z"
   },
   {
    "duration": 115,
    "start_time": "2023-07-24T15:15:02.046Z"
   },
   {
    "duration": 156,
    "start_time": "2023-07-24T15:15:12.949Z"
   },
   {
    "duration": 103,
    "start_time": "2023-07-24T15:15:20.106Z"
   },
   {
    "duration": 102,
    "start_time": "2023-07-24T15:15:23.806Z"
   },
   {
    "duration": 110,
    "start_time": "2023-07-24T15:15:32.207Z"
   },
   {
    "duration": 145,
    "start_time": "2023-07-24T15:15:46.374Z"
   },
   {
    "duration": 77,
    "start_time": "2023-07-24T15:15:51.468Z"
   },
   {
    "duration": 107,
    "start_time": "2023-07-24T15:15:59.225Z"
   },
   {
    "duration": 110,
    "start_time": "2023-07-24T15:16:39.563Z"
   },
   {
    "duration": 668,
    "start_time": "2023-07-24T15:17:39.586Z"
   },
   {
    "duration": 4,
    "start_time": "2023-07-24T15:17:40.257Z"
   },
   {
    "duration": 7923,
    "start_time": "2023-07-24T15:17:40.262Z"
   },
   {
    "duration": 49,
    "start_time": "2023-07-24T15:17:48.186Z"
   },
   {
    "duration": 12,
    "start_time": "2023-07-24T15:17:48.237Z"
   },
   {
    "duration": 123,
    "start_time": "2023-07-24T15:17:48.250Z"
   },
   {
    "duration": 235,
    "start_time": "2023-07-24T15:17:48.375Z"
   },
   {
    "duration": 126,
    "start_time": "2023-07-24T15:17:48.612Z"
   },
   {
    "duration": 1149,
    "start_time": "2023-07-24T15:17:48.739Z"
   },
   {
    "duration": 60,
    "start_time": "2023-07-24T15:17:49.889Z"
   },
   {
    "duration": 44,
    "start_time": "2023-07-24T15:17:49.951Z"
   },
   {
    "duration": 1109,
    "start_time": "2023-07-24T15:17:49.997Z"
   },
   {
    "duration": 659,
    "start_time": "2023-07-24T15:17:51.107Z"
   },
   {
    "duration": 2,
    "start_time": "2023-07-24T15:17:51.768Z"
   },
   {
    "duration": 21,
    "start_time": "2023-07-24T15:17:51.771Z"
   },
   {
    "duration": 111,
    "start_time": "2023-07-24T15:17:51.794Z"
   },
   {
    "duration": 108,
    "start_time": "2023-07-24T15:17:51.907Z"
   },
   {
    "duration": 124,
    "start_time": "2023-07-24T15:17:52.017Z"
   },
   {
    "duration": 74,
    "start_time": "2023-07-24T15:20:18.500Z"
   },
   {
    "duration": 96,
    "start_time": "2023-07-24T15:20:29.579Z"
   },
   {
    "duration": 100,
    "start_time": "2023-07-24T15:20:38.234Z"
   },
   {
    "duration": 109,
    "start_time": "2023-07-24T15:20:46.100Z"
   },
   {
    "duration": 98,
    "start_time": "2023-07-24T15:20:47.331Z"
   },
   {
    "duration": 142,
    "start_time": "2023-07-24T15:20:54.269Z"
   },
   {
    "duration": 105,
    "start_time": "2023-07-24T15:21:05.652Z"
   },
   {
    "duration": 1334,
    "start_time": "2023-07-25T05:37:02.850Z"
   },
   {
    "duration": 4,
    "start_time": "2023-07-25T05:37:04.186Z"
   },
   {
    "duration": 28268,
    "start_time": "2023-07-25T05:37:04.192Z"
   },
   {
    "duration": 405,
    "start_time": "2023-07-25T05:37:32.465Z"
   },
   {
    "duration": 17,
    "start_time": "2023-07-25T05:37:32.873Z"
   },
   {
    "duration": 226,
    "start_time": "2023-07-25T05:37:32.892Z"
   },
   {
    "duration": 297,
    "start_time": "2023-07-25T05:37:33.120Z"
   },
   {
    "duration": 164,
    "start_time": "2023-07-25T05:37:33.419Z"
   },
   {
    "duration": 1660,
    "start_time": "2023-07-25T05:37:33.586Z"
   },
   {
    "duration": 121,
    "start_time": "2023-07-25T05:37:35.248Z"
   },
   {
    "duration": 94,
    "start_time": "2023-07-25T05:37:35.371Z"
   },
   {
    "duration": 1602,
    "start_time": "2023-07-25T05:37:35.467Z"
   },
   {
    "duration": 577,
    "start_time": "2023-07-25T05:39:27.096Z"
   },
   {
    "duration": 87,
    "start_time": "2023-07-25T05:41:09.995Z"
   },
   {
    "duration": 1170,
    "start_time": "2023-07-25T05:41:17.780Z"
   },
   {
    "duration": 85,
    "start_time": "2023-07-25T05:41:24.072Z"
   },
   {
    "duration": 22,
    "start_time": "2023-07-25T05:41:29.439Z"
   },
   {
    "duration": 25503,
    "start_time": "2023-07-25T05:41:29.841Z"
   },
   {
    "duration": 2588,
    "start_time": "2023-07-25T05:41:55.346Z"
   },
   {
    "duration": 1000,
    "start_time": "2023-07-25T05:43:23.496Z"
   },
   {
    "duration": 970,
    "start_time": "2023-07-25T05:43:30.670Z"
   },
   {
    "duration": 227,
    "start_time": "2023-07-25T05:43:34.848Z"
   },
   {
    "duration": 1157,
    "start_time": "2023-07-25T05:43:38.890Z"
   },
   {
    "duration": 456,
    "start_time": "2023-07-25T05:49:29.028Z"
   },
   {
    "duration": 320,
    "start_time": "2023-07-25T05:49:54.740Z"
   },
   {
    "duration": 2399,
    "start_time": "2023-07-25T05:50:24.052Z"
   },
   {
    "duration": 321,
    "start_time": "2023-07-25T05:52:27.163Z"
   },
   {
    "duration": 1277,
    "start_time": "2023-07-25T05:54:12.523Z"
   },
   {
    "duration": 925,
    "start_time": "2023-07-25T05:54:42.140Z"
   },
   {
    "duration": 1113,
    "start_time": "2023-07-25T05:55:02.532Z"
   },
   {
    "duration": 388,
    "start_time": "2023-07-25T05:55:13.596Z"
   },
   {
    "duration": 63,
    "start_time": "2023-07-25T05:58:04.524Z"
   },
   {
    "duration": 921,
    "start_time": "2023-07-25T05:58:10.761Z"
   },
   {
    "duration": 4,
    "start_time": "2023-07-25T05:58:11.684Z"
   },
   {
    "duration": 24205,
    "start_time": "2023-07-25T05:58:11.763Z"
   },
   {
    "duration": 85,
    "start_time": "2023-07-25T06:00:15.850Z"
   },
   {
    "duration": 890,
    "start_time": "2023-07-25T06:00:22.937Z"
   },
   {
    "duration": 4,
    "start_time": "2023-07-25T06:00:24.002Z"
   },
   {
    "duration": 31335,
    "start_time": "2023-07-25T06:00:24.858Z"
   },
   {
    "duration": 678,
    "start_time": "2023-07-25T06:00:56.196Z"
   },
   {
    "duration": 2235,
    "start_time": "2023-07-25T06:01:14.072Z"
   },
   {
    "duration": 256,
    "start_time": "2023-07-25T06:02:08.697Z"
   },
   {
    "duration": 1105,
    "start_time": "2023-07-25T06:02:48.046Z"
   },
   {
    "duration": 363,
    "start_time": "2023-07-25T06:03:35.191Z"
   },
   {
    "duration": 2149,
    "start_time": "2023-07-25T06:04:10.168Z"
   },
   {
    "duration": 1059,
    "start_time": "2023-07-25T06:04:51.446Z"
   },
   {
    "duration": 1160,
    "start_time": "2023-07-25T06:05:30.936Z"
   },
   {
    "duration": 1167,
    "start_time": "2023-07-25T06:05:54.059Z"
   },
   {
    "duration": 336,
    "start_time": "2023-07-25T06:06:18.798Z"
   },
   {
    "duration": 323,
    "start_time": "2023-07-25T06:06:21.911Z"
   },
   {
    "duration": 1185,
    "start_time": "2023-07-25T06:06:43.993Z"
   },
   {
    "duration": 1014,
    "start_time": "2023-07-25T06:07:00.238Z"
   },
   {
    "duration": 1181,
    "start_time": "2023-07-25T06:07:46.729Z"
   },
   {
    "duration": 993,
    "start_time": "2023-07-25T06:07:54.393Z"
   },
   {
    "duration": 1348,
    "start_time": "2023-07-25T06:09:10.855Z"
   },
   {
    "duration": 314,
    "start_time": "2023-07-25T06:10:11.851Z"
   },
   {
    "duration": 242,
    "start_time": "2023-07-25T06:10:23.860Z"
   },
   {
    "duration": 266,
    "start_time": "2023-07-25T06:10:43.489Z"
   },
   {
    "duration": 877,
    "start_time": "2023-07-25T06:10:54.792Z"
   },
   {
    "duration": 265,
    "start_time": "2023-07-25T06:12:12.071Z"
   },
   {
    "duration": 389,
    "start_time": "2023-07-25T06:12:21.249Z"
   },
   {
    "duration": 20060,
    "start_time": "2023-07-25T06:12:32.783Z"
   },
   {
    "duration": 14360,
    "start_time": "2023-07-25T06:13:29.859Z"
   },
   {
    "duration": 372,
    "start_time": "2023-07-25T06:14:49.794Z"
   },
   {
    "duration": 258,
    "start_time": "2023-07-25T06:15:05.842Z"
   },
   {
    "duration": 1305,
    "start_time": "2023-07-25T06:15:10.002Z"
   },
   {
    "duration": 277,
    "start_time": "2023-07-25T06:31:37.244Z"
   },
   {
    "duration": 284,
    "start_time": "2023-07-25T06:31:44.399Z"
   },
   {
    "duration": 530,
    "start_time": "2023-07-25T06:31:58.999Z"
   },
   {
    "duration": 546,
    "start_time": "2023-07-25T06:32:27.384Z"
   },
   {
    "duration": 285,
    "start_time": "2023-07-25T06:33:18.842Z"
   },
   {
    "duration": 278,
    "start_time": "2023-07-25T06:33:34.252Z"
   },
   {
    "duration": 420,
    "start_time": "2023-07-25T06:33:45.462Z"
   },
   {
    "duration": 1210,
    "start_time": "2023-07-25T06:34:20.750Z"
   },
   {
    "duration": 170,
    "start_time": "2023-07-25T06:34:57.714Z"
   },
   {
    "duration": 211,
    "start_time": "2023-07-25T06:35:42.840Z"
   },
   {
    "duration": 469,
    "start_time": "2023-07-25T06:35:49.408Z"
   },
   {
    "duration": 477,
    "start_time": "2023-07-25T06:36:09.080Z"
   },
   {
    "duration": 404,
    "start_time": "2023-07-25T06:36:20.770Z"
   },
   {
    "duration": 242,
    "start_time": "2023-07-25T06:39:21.335Z"
   },
   {
    "duration": 2661,
    "start_time": "2023-07-25T06:39:44.689Z"
   },
   {
    "duration": 482,
    "start_time": "2023-07-25T06:40:45.253Z"
   },
   {
    "duration": 1439,
    "start_time": "2023-07-25T06:40:53.042Z"
   },
   {
    "duration": 319,
    "start_time": "2023-07-25T06:41:06.187Z"
   },
   {
    "duration": 1681,
    "start_time": "2023-07-25T06:41:10.695Z"
   },
   {
    "duration": 1773,
    "start_time": "2023-07-25T06:41:50.891Z"
   },
   {
    "duration": 1923,
    "start_time": "2023-07-25T06:42:13.244Z"
   },
   {
    "duration": 1955,
    "start_time": "2023-07-25T06:43:48.369Z"
   },
   {
    "duration": 1917,
    "start_time": "2023-07-25T06:44:29.266Z"
   },
   {
    "duration": 2068,
    "start_time": "2023-07-25T06:44:51.613Z"
   },
   {
    "duration": 367,
    "start_time": "2023-07-25T06:45:18.232Z"
   },
   {
    "duration": 653,
    "start_time": "2023-07-25T06:45:24.606Z"
   },
   {
    "duration": 704,
    "start_time": "2023-07-25T06:45:44.065Z"
   },
   {
    "duration": 390,
    "start_time": "2023-07-25T06:46:00.493Z"
   },
   {
    "duration": 870,
    "start_time": "2023-07-25T06:46:10.542Z"
   },
   {
    "duration": 647,
    "start_time": "2023-07-25T06:46:46.732Z"
   },
   {
    "duration": 157,
    "start_time": "2023-07-25T06:47:59.354Z"
   },
   {
    "duration": 194,
    "start_time": "2023-07-25T06:48:28.453Z"
   },
   {
    "duration": 879,
    "start_time": "2023-07-25T06:49:43.501Z"
   },
   {
    "duration": 446,
    "start_time": "2023-07-25T06:50:22.654Z"
   },
   {
    "duration": 369,
    "start_time": "2023-07-25T06:50:42.629Z"
   },
   {
    "duration": 586,
    "start_time": "2023-07-25T06:50:47.285Z"
   },
   {
    "duration": 724,
    "start_time": "2023-07-25T06:51:20.956Z"
   },
   {
    "duration": 569,
    "start_time": "2023-07-25T06:51:36.762Z"
   },
   {
    "duration": 557,
    "start_time": "2023-07-25T06:51:55.453Z"
   },
   {
    "duration": 775,
    "start_time": "2023-07-25T06:52:06.001Z"
   },
   {
    "duration": 332,
    "start_time": "2023-07-25T06:53:13.285Z"
   },
   {
    "duration": 429,
    "start_time": "2023-07-25T06:53:23.325Z"
   },
   {
    "duration": 405,
    "start_time": "2023-07-25T06:53:28.993Z"
   },
   {
    "duration": 560,
    "start_time": "2023-07-25T06:53:44.287Z"
   },
   {
    "duration": 366,
    "start_time": "2023-07-25T06:54:40.603Z"
   },
   {
    "duration": 297,
    "start_time": "2023-07-25T06:55:03.667Z"
   },
   {
    "duration": 585,
    "start_time": "2023-07-25T06:55:06.262Z"
   },
   {
    "duration": 558,
    "start_time": "2023-07-25T06:55:48.539Z"
   },
   {
    "duration": 197,
    "start_time": "2023-07-25T06:56:19.730Z"
   },
   {
    "duration": 198,
    "start_time": "2023-07-25T06:56:25.371Z"
   },
   {
    "duration": 203,
    "start_time": "2023-07-25T06:56:28.409Z"
   },
   {
    "duration": 156,
    "start_time": "2023-07-25T06:56:47.659Z"
   },
   {
    "duration": 206,
    "start_time": "2023-07-25T06:56:52.765Z"
   },
   {
    "duration": 734,
    "start_time": "2023-07-25T06:57:01.308Z"
   },
   {
    "duration": 220,
    "start_time": "2023-07-25T06:57:30.748Z"
   },
   {
    "duration": 237,
    "start_time": "2023-07-25T06:57:43.142Z"
   },
   {
    "duration": 208,
    "start_time": "2023-07-25T06:57:52.900Z"
   },
   {
    "duration": 432,
    "start_time": "2023-07-25T06:59:21.652Z"
   },
   {
    "duration": 1063,
    "start_time": "2023-07-25T06:59:32.082Z"
   },
   {
    "duration": 919,
    "start_time": "2023-07-25T07:00:08.141Z"
   },
   {
    "duration": 568,
    "start_time": "2023-07-25T07:00:42.839Z"
   },
   {
    "duration": 582,
    "start_time": "2023-07-25T07:00:48.346Z"
   },
   {
    "duration": 588,
    "start_time": "2023-07-25T07:01:08.287Z"
   },
   {
    "duration": 579,
    "start_time": "2023-07-25T07:01:19.741Z"
   },
   {
    "duration": 1091,
    "start_time": "2023-07-25T07:44:59.127Z"
   },
   {
    "duration": 3,
    "start_time": "2023-07-25T07:45:00.221Z"
   },
   {
    "duration": 27692,
    "start_time": "2023-07-25T07:45:00.226Z"
   },
   {
    "duration": 253,
    "start_time": "2023-07-25T07:45:27.920Z"
   },
   {
    "duration": 15,
    "start_time": "2023-07-25T07:45:28.176Z"
   },
   {
    "duration": 173,
    "start_time": "2023-07-25T07:45:28.193Z"
   },
   {
    "duration": 267,
    "start_time": "2023-07-25T07:45:28.368Z"
   },
   {
    "duration": 154,
    "start_time": "2023-07-25T07:45:28.637Z"
   },
   {
    "duration": 1251,
    "start_time": "2023-07-25T07:45:28.792Z"
   },
   {
    "duration": 89,
    "start_time": "2023-07-25T07:45:30.045Z"
   },
   {
    "duration": 76,
    "start_time": "2023-07-25T07:45:30.136Z"
   },
   {
    "duration": 1213,
    "start_time": "2023-07-25T07:45:30.213Z"
   },
   {
    "duration": 613,
    "start_time": "2023-07-25T07:45:31.428Z"
   },
   {
    "duration": 2,
    "start_time": "2023-07-25T07:45:32.044Z"
   },
   {
    "duration": 43,
    "start_time": "2023-07-25T07:45:32.048Z"
   },
   {
    "duration": 193,
    "start_time": "2023-07-25T07:45:32.093Z"
   },
   {
    "duration": 138,
    "start_time": "2023-07-25T07:45:32.289Z"
   },
   {
    "duration": 148,
    "start_time": "2023-07-25T07:45:32.429Z"
   },
   {
    "duration": 90,
    "start_time": "2023-07-25T07:45:49.370Z"
   },
   {
    "duration": 875,
    "start_time": "2023-07-25T08:09:21.362Z"
   },
   {
    "duration": 3,
    "start_time": "2023-07-25T08:09:22.240Z"
   },
   {
    "duration": 19929,
    "start_time": "2023-07-25T08:09:22.251Z"
   },
   {
    "duration": 212,
    "start_time": "2023-07-25T08:09:42.183Z"
   },
   {
    "duration": 14,
    "start_time": "2023-07-25T08:09:42.397Z"
   },
   {
    "duration": 178,
    "start_time": "2023-07-25T08:09:42.413Z"
   },
   {
    "duration": 275,
    "start_time": "2023-07-25T08:09:42.592Z"
   },
   {
    "duration": 169,
    "start_time": "2023-07-25T08:09:42.869Z"
   },
   {
    "duration": 1354,
    "start_time": "2023-07-25T08:09:43.040Z"
   },
   {
    "duration": 91,
    "start_time": "2023-07-25T08:09:44.396Z"
   },
   {
    "duration": 78,
    "start_time": "2023-07-25T08:09:44.489Z"
   },
   {
    "duration": 1267,
    "start_time": "2023-07-25T08:09:44.570Z"
   },
   {
    "duration": 566,
    "start_time": "2023-07-25T08:09:45.839Z"
   },
   {
    "duration": 3,
    "start_time": "2023-07-25T08:09:46.406Z"
   },
   {
    "duration": 13,
    "start_time": "2023-07-25T08:09:46.410Z"
   },
   {
    "duration": 135,
    "start_time": "2023-07-25T08:09:46.424Z"
   },
   {
    "duration": 153,
    "start_time": "2023-07-25T08:09:46.561Z"
   },
   {
    "duration": 138,
    "start_time": "2023-07-25T08:09:46.716Z"
   },
   {
    "duration": 55,
    "start_time": "2023-07-25T09:09:08.158Z"
   },
   {
    "duration": 994,
    "start_time": "2023-07-25T09:18:20.202Z"
   },
   {
    "duration": 4,
    "start_time": "2023-07-25T09:18:21.198Z"
   },
   {
    "duration": 15632,
    "start_time": "2023-07-25T09:18:21.204Z"
   },
   {
    "duration": 237,
    "start_time": "2023-07-25T09:18:36.839Z"
   },
   {
    "duration": 17,
    "start_time": "2023-07-25T09:18:37.078Z"
   },
   {
    "duration": 184,
    "start_time": "2023-07-25T09:18:37.096Z"
   },
   {
    "duration": 267,
    "start_time": "2023-07-25T09:18:37.282Z"
   },
   {
    "duration": 155,
    "start_time": "2023-07-25T09:18:37.551Z"
   },
   {
    "duration": 1526,
    "start_time": "2023-07-25T09:18:37.708Z"
   },
   {
    "duration": 102,
    "start_time": "2023-07-25T09:18:39.237Z"
   },
   {
    "duration": 88,
    "start_time": "2023-07-25T09:18:39.342Z"
   },
   {
    "duration": 1298,
    "start_time": "2023-07-25T09:18:39.432Z"
   },
   {
    "duration": 576,
    "start_time": "2023-07-25T09:18:40.732Z"
   },
   {
    "duration": 3,
    "start_time": "2023-07-25T09:18:41.310Z"
   },
   {
    "duration": 11,
    "start_time": "2023-07-25T09:18:41.315Z"
   },
   {
    "duration": 148,
    "start_time": "2023-07-25T09:18:41.328Z"
   },
   {
    "duration": 157,
    "start_time": "2023-07-25T09:18:41.479Z"
   },
   {
    "duration": 130,
    "start_time": "2023-07-25T09:18:41.638Z"
   },
   {
    "duration": 147,
    "start_time": "2023-07-25T09:19:56.622Z"
   },
   {
    "duration": 303,
    "start_time": "2023-07-25T09:20:38.113Z"
   },
   {
    "duration": 93,
    "start_time": "2023-07-25T09:21:02.513Z"
   },
   {
    "duration": 75,
    "start_time": "2023-07-25T09:21:49.044Z"
   },
   {
    "duration": 371,
    "start_time": "2023-07-25T09:21:59.861Z"
   },
   {
    "duration": 196,
    "start_time": "2023-07-25T09:22:05.235Z"
   },
   {
    "duration": 102,
    "start_time": "2023-07-25T09:22:20.797Z"
   },
   {
    "duration": 1638,
    "start_time": "2023-07-25T09:22:31.410Z"
   },
   {
    "duration": 1636,
    "start_time": "2023-07-25T09:22:45.397Z"
   },
   {
    "duration": 181,
    "start_time": "2023-07-25T09:22:54.639Z"
   },
   {
    "duration": 168,
    "start_time": "2023-07-25T09:23:45.595Z"
   },
   {
    "duration": 280,
    "start_time": "2023-07-25T09:23:49.535Z"
   },
   {
    "duration": 131,
    "start_time": "2023-07-25T09:24:06.665Z"
   },
   {
    "duration": 79,
    "start_time": "2023-07-25T09:24:42.215Z"
   },
   {
    "duration": 355,
    "start_time": "2023-07-25T09:24:53.076Z"
   },
   {
    "duration": 179,
    "start_time": "2023-07-25T09:26:21.019Z"
   },
   {
    "duration": 130,
    "start_time": "2023-07-25T09:26:27.900Z"
   },
   {
    "duration": 102,
    "start_time": "2023-07-25T09:26:29.393Z"
   },
   {
    "duration": 124,
    "start_time": "2023-07-25T09:26:34.603Z"
   },
   {
    "duration": 103,
    "start_time": "2023-07-25T09:26:45.102Z"
   },
   {
    "duration": 200,
    "start_time": "2023-07-25T09:26:51.200Z"
   },
   {
    "duration": 136,
    "start_time": "2023-07-25T09:29:16.008Z"
   },
   {
    "duration": 280,
    "start_time": "2023-07-25T10:44:54.756Z"
   },
   {
    "duration": 220,
    "start_time": "2023-07-25T10:45:02.689Z"
   },
   {
    "duration": 272,
    "start_time": "2023-07-25T10:45:07.310Z"
   },
   {
    "duration": 277,
    "start_time": "2023-07-25T10:46:11.965Z"
   },
   {
    "duration": 132,
    "start_time": "2023-07-25T10:46:17.761Z"
   },
   {
    "duration": 130,
    "start_time": "2023-07-25T10:46:35.897Z"
   },
   {
    "duration": 265,
    "start_time": "2023-07-25T10:47:13.850Z"
   },
   {
    "duration": 1903,
    "start_time": "2023-07-25T10:48:53.701Z"
   },
   {
    "duration": 509,
    "start_time": "2023-07-25T10:49:12.114Z"
   },
   {
    "duration": 1982,
    "start_time": "2023-07-25T10:49:20.413Z"
   },
   {
    "duration": 162,
    "start_time": "2023-07-25T10:50:33.507Z"
   },
   {
    "duration": 293,
    "start_time": "2023-07-25T10:50:41.091Z"
   },
   {
    "duration": 252,
    "start_time": "2023-07-25T10:52:48.905Z"
   },
   {
    "duration": 344,
    "start_time": "2023-07-25T10:53:02.305Z"
   },
   {
    "duration": 247,
    "start_time": "2023-07-25T10:53:05.972Z"
   },
   {
    "duration": 287,
    "start_time": "2023-07-25T10:53:51.190Z"
   },
   {
    "duration": 977,
    "start_time": "2023-07-25T11:33:33.401Z"
   },
   {
    "duration": 5,
    "start_time": "2023-07-25T11:33:34.381Z"
   },
   {
    "duration": 22156,
    "start_time": "2023-07-25T11:33:34.388Z"
   },
   {
    "duration": 217,
    "start_time": "2023-07-25T11:33:56.547Z"
   },
   {
    "duration": 22,
    "start_time": "2023-07-25T11:33:56.767Z"
   },
   {
    "duration": 159,
    "start_time": "2023-07-25T11:33:56.792Z"
   },
   {
    "duration": 302,
    "start_time": "2023-07-25T11:33:56.953Z"
   },
   {
    "duration": 151,
    "start_time": "2023-07-25T11:33:57.257Z"
   },
   {
    "duration": 1594,
    "start_time": "2023-07-25T11:33:57.411Z"
   },
   {
    "duration": 90,
    "start_time": "2023-07-25T11:33:59.007Z"
   },
   {
    "duration": 121,
    "start_time": "2023-07-25T11:33:59.099Z"
   },
   {
    "duration": 1343,
    "start_time": "2023-07-25T11:33:59.223Z"
   },
   {
    "duration": 400,
    "start_time": "2023-07-25T11:34:00.568Z"
   },
   {
    "duration": 3,
    "start_time": "2023-07-25T11:34:00.972Z"
   },
   {
    "duration": 76,
    "start_time": "2023-07-25T11:34:00.977Z"
   },
   {
    "duration": 192,
    "start_time": "2023-07-25T11:34:01.056Z"
   },
   {
    "duration": 235,
    "start_time": "2023-07-25T11:34:01.250Z"
   },
   {
    "duration": 135,
    "start_time": "2023-07-25T11:34:01.487Z"
   },
   {
    "duration": 124,
    "start_time": "2023-07-25T11:34:53.331Z"
   },
   {
    "duration": 581,
    "start_time": "2023-07-25T11:35:42.252Z"
   },
   {
    "duration": 3,
    "start_time": "2023-07-25T11:44:43.102Z"
   },
   {
    "duration": 52,
    "start_time": "2023-07-25T11:44:47.725Z"
   },
   {
    "duration": 22,
    "start_time": "2023-07-25T11:56:04.745Z"
   },
   {
    "duration": 2653,
    "start_time": "2023-07-25T11:56:09.324Z"
   },
   {
    "duration": 3476,
    "start_time": "2023-07-25T11:57:06.771Z"
   },
   {
    "duration": 12,
    "start_time": "2023-07-25T11:57:20.537Z"
   },
   {
    "duration": 425,
    "start_time": "2023-07-25T11:57:23.842Z"
   },
   {
    "duration": 21,
    "start_time": "2023-07-25T11:57:25.374Z"
   },
   {
    "duration": 485,
    "start_time": "2023-07-25T11:57:33.506Z"
   },
   {
    "duration": 442,
    "start_time": "2023-07-25T11:57:42.350Z"
   },
   {
    "duration": 550,
    "start_time": "2023-07-25T11:58:33.701Z"
   },
   {
    "duration": 559,
    "start_time": "2023-07-25T11:58:39.335Z"
   },
   {
    "duration": 206,
    "start_time": "2023-07-25T11:59:19.531Z"
   },
   {
    "duration": 156,
    "start_time": "2023-07-25T11:59:58.758Z"
   },
   {
    "duration": 1269,
    "start_time": "2023-07-25T21:45:25.337Z"
   },
   {
    "duration": 4,
    "start_time": "2023-07-25T21:45:26.609Z"
   },
   {
    "duration": 12740,
    "start_time": "2023-07-25T21:45:26.615Z"
   },
   {
    "duration": 217,
    "start_time": "2023-07-25T21:45:39.357Z"
   },
   {
    "duration": 15,
    "start_time": "2023-07-25T21:45:39.577Z"
   },
   {
    "duration": 311,
    "start_time": "2023-07-25T21:45:39.594Z"
   },
   {
    "duration": 302,
    "start_time": "2023-07-25T21:45:39.907Z"
   },
   {
    "duration": 152,
    "start_time": "2023-07-25T21:45:40.211Z"
   },
   {
    "duration": 1317,
    "start_time": "2023-07-25T21:45:40.365Z"
   },
   {
    "duration": 87,
    "start_time": "2023-07-25T21:45:41.684Z"
   },
   {
    "duration": 77,
    "start_time": "2023-07-25T21:45:41.773Z"
   },
   {
    "duration": 1268,
    "start_time": "2023-07-25T21:45:41.852Z"
   },
   {
    "duration": 397,
    "start_time": "2023-07-25T21:45:43.122Z"
   },
   {
    "duration": 416,
    "start_time": "2023-07-25T21:45:43.522Z"
   },
   {
    "duration": 133,
    "start_time": "2023-07-25T21:45:43.940Z"
   },
   {
    "duration": 131,
    "start_time": "2023-07-25T21:45:44.075Z"
   },
   {
    "duration": 130,
    "start_time": "2023-07-25T21:45:44.208Z"
   }
  ],
  "colab": {
   "provenance": []
  },
  "kernelspec": {
   "display_name": "Python 3 (ipykernel)",
   "language": "python",
   "name": "python3"
  },
  "language_info": {
   "codemirror_mode": {
    "name": "ipython",
    "version": 3
   },
   "file_extension": ".py",
   "mimetype": "text/x-python",
   "name": "python",
   "nbconvert_exporter": "python",
   "pygments_lexer": "ipython3",
   "version": "3.9.13"
  },
  "toc": {
   "base_numbering": 1,
   "nav_menu": {},
   "number_sections": true,
   "sideBar": true,
   "skip_h1_title": true,
   "title_cell": "Table of Contents",
   "title_sidebar": "Contents",
   "toc_cell": false,
   "toc_position": {
    "height": "calc(100% - 180px)",
    "left": "10px",
    "top": "150px",
    "width": "165px"
   },
   "toc_section_display": true,
   "toc_window_display": true
  }
 },
 "nbformat": 4,
 "nbformat_minor": 1
}
